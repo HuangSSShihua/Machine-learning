{
 "cells": [
  {
   "cell_type": "markdown",
   "metadata": {
    "deletable": true,
    "editable": true
   },
   "source": [
    "# Foundations of Data Mining: Assignment 4\n",
    "\n",
    "Please complete all assignments in this notebook. You should submit this notebook, as well as a PDF version (See File > Download as)."
   ]
  },
  {
   "cell_type": "code",
   "execution_count": 1,
   "metadata": {
    "collapsed": false,
    "deletable": true,
    "editable": true
   },
   "outputs": [],
   "source": [
    "%matplotlib inline\n",
    "from preamble import *\n",
    "plt.rcParams['savefig.dpi'] = 100 # This controls the size of your figures\n",
    "# Comment out and restart notebook if you only want the last output of each cell.\n",
    "InteractiveShell.ast_node_interactivity = \"all\""
   ]
  },
  {
   "cell_type": "markdown",
   "metadata": {
    "deletable": true,
    "editable": true
   },
   "source": [
    "## Backpropagation (3 points)\n",
    "\n",
    "Figure 1 illustrates a simple neural network model.\n",
    "\n",
    "![Figure 1](images/assignment/small-net.png)\n",
    "\n",
    "It has single input $x$, two layers with one neuron each. The activation function of both layers is ReLU. \n",
    "\n",
    "The parameters $w_0$ and $w_1$ (no biases) are initialized to the following values $w_0 = 1$ and $w_1 = 2$. Implement a single update step of the gradient descent algorithm by hand. Run the update state for the following two data points:\n",
    "\n",
    "* $(1, 2)$ \n",
    "* $(2, 3)$\n",
    "\n",
    "The goal is to model the relationship between two continuous variables. The learning rate is set to $0.1$\n",
    "\n",
    "Provide the solution in the following format:\n",
    "\n",
    "- A choice for a loss function \n",
    "- Compute graph for training the neural network\n",
    "- Partial derivative expression for each of the parameters in the model\n",
    "- The update expression for each of the parameters for each of the data-points\n",
    "- The final value of both parameters after the single step in the gradient descent algorithm\n",
    "\n"
   ]
  },
  {
   "cell_type": "markdown",
   "metadata": {
    "collapsed": true,
    "deletable": true,
    "editable": true
   },
   "source": [
    "$\\textbf{Answer:}$\n",
    "\n",
    "Given:\n",
    "w_0 = 1, w_1 = 2\n",
    "\n",
    "Activation function ReLU = f(x) = max(0,x)\n",
    "\n",
    "X = (1,2), Y = (2,3), where X is the feature/input space and Y is the label/output space.\n",
    "\n",
    "learning_rate = 0.1\n",
    "\n",
    "For first input x_0:\n",
    "\n",
    "$f(w_0 * x_0) = f(1*1) = f(1) = 1$\n",
    "\n",
    "$\\hat{y} = f(\\textbf{w}^T\\textbf{x}) = f(w_1 * f(w_0 * x_0)) = f(2*1) = f(2) = 2$\n",
    "\n",
    "For second input x_1:\n",
    "\n",
    "$f(w_0 * x_1) = f(1*2) = f(2) = 2$\n",
    "\n",
    "$\\hat{y} = f(\\textbf{w}^T\\textbf{x}) = f(w_1 * f(w_0 * x_1)) = f(2*2) = f(4) = 4$\n",
    "\n",
    "Choice of Loss Function: $L = \\sum\\limits_{i=0}^n(\\hat{y} - y)^2/2n$, where $\\hat{y}$ is the predicted label. This is the gradient decent loss function.\n",
    "For first input (x0,y0) = (1,2):\n",
    "![Compute graph](images/assignment/fig1.png)\n",
    "For second input (x1,y1) = (2,3):\n",
    "![Compute graph](images/assignment/fig2.png)\n",
    "\n",
    "To form the partial derivative expression, we first identify the paramters as $w$ and $b$\n",
    "\n",
    "$\\frac{\\partial{L}}{\\partial{w}}=\\frac{1}{2}*2(wx - y)(x - 0)=x*(wx - y)=(wx^2 - xy)$\n",
    "\n",
    "$\\frac{\\partial{L}}{\\partial{b}} = 0$\n",
    "\n",
    "The update expression is as follows:\n",
    "\n",
    "$w \\gets w - \\alpha (wx^2 - xy)$ \n",
    "\n",
    "$b \\gets b - \\alpha * 0 = b$ \n",
    "\n",
    "Final value of both parameters after the single step in the gradient descent algorithm:\n",
    "\n",
    "For first point (x0,y0) = (1,2):\n",
    "\n",
    "$w \\gets 1 - 0.1 * (1*1^2 - 1*2)$ \n",
    "\n",
    "$w \\gets 1.1$\n",
    "\n",
    "$b \\gets 0 $\n",
    "\n",
    "For second point (x1,y1) = (2,3):\n",
    "\n",
    "$w \\gets 1 - 0.1 * (1*2^2 - 2*3)$ \n",
    "\n",
    "$w \\gets 0.8$\n",
    "\n",
    "$b \\gets 0 $ "
   ]
  },
  {
   "cell_type": "code",
   "execution_count": null,
   "metadata": {
    "collapsed": true,
    "deletable": true,
    "editable": true
   },
   "outputs": [],
   "source": []
  },
  {
   "cell_type": "markdown",
   "metadata": {
    "deletable": true,
    "editable": true
   },
   "source": [
    "## Training Deep Models (3 points)\n",
    "\n",
    "The model in the example code below performs poorly as its depth increases. Train this model on the MNIST digit detection task. \n",
    "\n",
    "Examine its training performance by gradually increasing its depth:\n",
    "- Set the depth to 1 hidden layer\n",
    "- Set the depth to 2 hidden layers\n",
    "- Set the depth to 3 hidden layers\n",
    "\n",
    "Modify the model such that you improve its performance when its depth increases. Train the new model again for the different depths:\n",
    "- Set the depth to 1 hidden layer\n",
    "- Set the depth to 2 hidden layers\n",
    "- Set the depth to 3 hidden layers\n",
    "\n",
    "Submit an explanation for the limitation of the original model. Explain your modification. \n",
    "Submit your code and 6 plots (can be overlaid) for the training performance of both models with different depths. \n",
    "\n"
   ]
  },
  {
   "cell_type": "code",
   "execution_count": 22,
   "metadata": {
    "collapsed": false,
    "deletable": true,
    "editable": true
   },
   "outputs": [],
   "source": [
    "# (You don't need to change this part of the code)\n",
    "from __future__ import print_function\n",
    "import numpy as npf\n",
    "np.random.seed(1234)\n",
    "\n",
    "from keras.datasets import mnist\n",
    "from keras.models import Sequential\n",
    "from keras.layers.core import Dense, Dropout, Activation\n",
    "from keras.optimizers import SGD\n",
    "from keras.utils import np_utils\n",
    "\n",
    "\n",
    "import matplotlib.pyplot as plt\n",
    "\n",
    "batch_size = 128\n",
    "nb_classes = 10\n",
    "nb_epoch = 10"
   ]
  },
  {
   "cell_type": "code",
   "execution_count": 26,
   "metadata": {
    "collapsed": false,
    "deletable": true,
    "editable": true
   },
   "outputs": [
    {
     "name": "stdout",
     "output_type": "stream",
     "text": [
      "60000 train samples\n",
      "10000 test samples\n"
     ]
    }
   ],
   "source": [
    "# (You don't need to change this part of the code)\n",
    "# the data, shuffled and split between train and test sets\n",
    "(X_train, y_train), (X_test, y_test) = mnist.load_data()\n",
    "\n",
    "X_train = X_train.reshape(60000, 784)\n",
    "X_test = X_test.reshape(10000, 784)\n",
    "\n",
    "X_train = X_train.astype('float32')\n",
    "X_test = X_test.astype('float32')\n",
    "X_train /= 255\n",
    "X_test /= 255\n",
    "print(X_train.shape[0], 'train samples')\n",
    "print(X_test.shape[0], 'test samples')\n",
    "\n",
    "# convert class vectors to binary class matrices\n",
    "Y_train = np_utils.to_categorical(y_train, nb_classes)\n",
    "Y_test = np_utils.to_categorical(y_test, nb_classes)"
   ]
  },
  {
   "cell_type": "code",
   "execution_count": 14,
   "metadata": {
    "collapsed": true,
    "deletable": true,
    "editable": true
   },
   "outputs": [],
   "source": [
    "# Use this parameter to change the depth of the model\n",
    "number_hidden_layers = [1,2,3]# Number of hidden layers\n",
    "model_list = []"
   ]
  },
  {
   "cell_type": "code",
   "execution_count": 15,
   "metadata": {
    "collapsed": false,
    "deletable": true,
    "editable": true
   },
   "outputs": [
    {
     "name": "stdout",
     "output_type": "stream",
     "text": [
      "1\n",
      "_________________________________________________________________\n",
      "Layer (type)                 Output Shape              Param #   \n",
      "=================================================================\n",
      "dense_114 (Dense)            (None, 512)               401920    \n",
      "_________________________________________________________________\n",
      "dropout_90 (Dropout)         (None, 512)               0         \n",
      "_________________________________________________________________\n",
      "dense_115 (Dense)            (None, 10)                5130      \n",
      "_________________________________________________________________\n",
      "activation_89 (Activation)   (None, 10)                0         \n",
      "=================================================================\n",
      "Total params: 407,050.0\n",
      "Trainable params: 407,050.0\n",
      "Non-trainable params: 0.0\n",
      "_________________________________________________________________\n",
      "2\n",
      "_________________________________________________________________\n",
      "Layer (type)                 Output Shape              Param #   \n",
      "=================================================================\n",
      "dense_116 (Dense)            (None, 512)               401920    \n",
      "_________________________________________________________________\n",
      "dropout_91 (Dropout)         (None, 512)               0         \n",
      "_________________________________________________________________\n",
      "dense_117 (Dense)            (None, 512)               262656    \n",
      "_________________________________________________________________\n",
      "activation_90 (Activation)   (None, 512)               0         \n",
      "_________________________________________________________________\n",
      "dropout_92 (Dropout)         (None, 512)               0         \n",
      "_________________________________________________________________\n",
      "dense_118 (Dense)            (None, 10)                5130      \n",
      "_________________________________________________________________\n",
      "activation_91 (Activation)   (None, 10)                0         \n",
      "=================================================================\n",
      "Total params: 669,706.0\n",
      "Trainable params: 669,706.0\n",
      "Non-trainable params: 0.0\n",
      "_________________________________________________________________\n",
      "3\n",
      "_________________________________________________________________\n",
      "Layer (type)                 Output Shape              Param #   \n",
      "=================================================================\n",
      "dense_119 (Dense)            (None, 512)               401920    \n",
      "_________________________________________________________________\n",
      "dropout_93 (Dropout)         (None, 512)               0         \n",
      "_________________________________________________________________\n",
      "dense_120 (Dense)            (None, 512)               262656    \n",
      "_________________________________________________________________\n",
      "activation_92 (Activation)   (None, 512)               0         \n",
      "_________________________________________________________________\n",
      "dropout_94 (Dropout)         (None, 512)               0         \n",
      "_________________________________________________________________\n",
      "dense_121 (Dense)            (None, 512)               262656    \n",
      "_________________________________________________________________\n",
      "activation_93 (Activation)   (None, 512)               0         \n",
      "_________________________________________________________________\n",
      "dropout_95 (Dropout)         (None, 512)               0         \n",
      "_________________________________________________________________\n",
      "dense_122 (Dense)            (None, 10)                5130      \n",
      "_________________________________________________________________\n",
      "activation_94 (Activation)   (None, 10)                0         \n",
      "=================================================================\n",
      "Total params: 932,362.0\n",
      "Trainable params: 932,362.0\n",
      "Non-trainable params: 0.0\n",
      "_________________________________________________________________\n"
     ]
    }
   ],
   "source": [
    "for i in range(len(number_hidden_layers)):\n",
    "    print(number_hidden_layers[i])\n",
    "    # Model\n",
    "    model = Sequential()\n",
    "    model.add(Dense(512, input_shape=(784,), activation='sigmoid'))\n",
    "    model.add(Dropout(0.2))\n",
    "\n",
    "    while number_hidden_layers[i] > 1:\n",
    "        model.add(Dense(512))\n",
    "        model.add(Activation('sigmoid'))\n",
    "        model.add(Dropout(0.2))\n",
    "        number_hidden_layers[i] -= 1\n",
    "\n",
    "\n",
    "    model.add(Dense(10))\n",
    "    model.add(Activation('softmax'))\n",
    "\n",
    "    model.summary()\n",
    "\n",
    "    model.compile(loss='categorical_crossentropy',\n",
    "                  optimizer=SGD(),\n",
    "                  metrics=['accuracy'])\n",
    "\n",
    "    model_list.append(model)"
   ]
  },
  {
   "cell_type": "code",
   "execution_count": null,
   "metadata": {
    "collapsed": true,
    "deletable": true,
    "editable": true
   },
   "outputs": [],
   "source": [
    "# Training (You don't need to change this part of the code)\n",
    "for model in model_list:\n",
    "    history = model.fit(X_train, Y_train,\n",
    "                        batch_size=batch_size, nb_epoch=nb_epoch,\n",
    "                        verbose=0, validation_data=(X_test, Y_test))\n",
    "    score = model.evaluate(X_test, Y_test, verbose=0)\n",
    "    print('Test score:', score[0])\n",
    "    print('Test accuracy:', score[1])\n",
    "\n",
    "    # list all data in history\n",
    "    print(history.history.keys())\n",
    "    # summarize history for accuracy\n",
    "    plt.plot(history.history['acc'])\n",
    "    plt.plot(history.history['val_acc'])\n",
    "    plt.title('model accuracy')\n",
    "    plt.ylabel('accuracy')\n",
    "    plt.xlabel('epoch')\n",
    "    plt.legend(['train', 'test'], loc='upper left')\n",
    "    plt.show()"
   ]
  },
  {
   "cell_type": "markdown",
   "metadata": {
    "deletable": true,
    "editable": true
   },
   "source": [
    "#### changing model along with number of hidden layers."
   ]
  },
  {
   "cell_type": "code",
   "execution_count": 17,
   "metadata": {
    "collapsed": true,
    "deletable": true,
    "editable": true
   },
   "outputs": [],
   "source": [
    "# Use this parameter to change the depth of the model\n",
    "number_hidden_layers_b = [1,2,3]# Number of hidden layers\n",
    "model_list_b = []"
   ]
  },
  {
   "cell_type": "code",
   "execution_count": 20,
   "metadata": {
    "collapsed": false,
    "deletable": true,
    "editable": true
   },
   "outputs": [
    {
     "name": "stdout",
     "output_type": "stream",
     "text": [
      "1\n",
      "_________________________________________________________________\n",
      "Layer (type)                 Output Shape              Param #   \n",
      "=================================================================\n",
      "dense_129 (Dense)            (None, 512)               401920    \n",
      "_________________________________________________________________\n",
      "dropout_99 (Dropout)         (None, 512)               0         \n",
      "_________________________________________________________________\n",
      "dense_130 (Dense)            (None, 10)                5130      \n",
      "_________________________________________________________________\n",
      "activation_98 (Activation)   (None, 10)                0         \n",
      "=================================================================\n",
      "Total params: 407,050.0\n",
      "Trainable params: 407,050.0\n",
      "Non-trainable params: 0.0\n",
      "_________________________________________________________________\n",
      "2\n",
      "_________________________________________________________________\n",
      "Layer (type)                 Output Shape              Param #   \n",
      "=================================================================\n",
      "dense_131 (Dense)            (None, 512)               401920    \n",
      "_________________________________________________________________\n",
      "dropout_100 (Dropout)        (None, 512)               0         \n",
      "_________________________________________________________________\n",
      "dense_132 (Dense)            (None, 10)                5130      \n",
      "_________________________________________________________________\n",
      "activation_99 (Activation)   (None, 10)                0         \n",
      "=================================================================\n",
      "Total params: 407,050.0\n",
      "Trainable params: 407,050.0\n",
      "Non-trainable params: 0.0\n",
      "_________________________________________________________________\n",
      "3\n",
      "_________________________________________________________________\n",
      "Layer (type)                 Output Shape              Param #   \n",
      "=================================================================\n",
      "dense_133 (Dense)            (None, 512)               401920    \n",
      "_________________________________________________________________\n",
      "dropout_101 (Dropout)        (None, 512)               0         \n",
      "_________________________________________________________________\n",
      "dense_134 (Dense)            (None, 10)                5130      \n",
      "_________________________________________________________________\n",
      "activation_100 (Activation)  (None, 10)                0         \n",
      "=================================================================\n",
      "Total params: 407,050.0\n",
      "Trainable params: 407,050.0\n",
      "Non-trainable params: 0.0\n",
      "_________________________________________________________________\n"
     ]
    }
   ],
   "source": [
    "for i in range(len(number_hidden_layers_b)):\n",
    "    print(number_hidden_layers_b[i])\n",
    "    # Model\n",
    "    model = Sequential()\n",
    "    model.add(Dense(512, input_shape=(784,), activation='sigmoid'))\n",
    "    model.add(Dropout(0.2))\n",
    "\n",
    "    while number_hidden_layers[i] > 1:\n",
    "        model.add(Dense(512))\n",
    "        model.add(Activation('tanh')) #Relu is better `\n",
    "        model.add(Dropout(0.2))\n",
    "        number_hidden_layers_b[i] -= 1\n",
    "\n",
    "\n",
    "    model.add(Dense(10))\n",
    "    model.add(Activation('linear'))\n",
    "\n",
    "    model.summary()\n",
    "\n",
    "    model.compile(loss='categorical_crossentropy',\n",
    "                  optimizer=SGD(),\n",
    "                  metrics=['accuracy'])\n",
    "\n",
    "    model_list_b.append(model)"
   ]
  },
  {
   "cell_type": "code",
   "execution_count": 19,
   "metadata": {
    "collapsed": false,
    "deletable": true,
    "editable": true,
    "scrolled": true
   },
   "outputs": [
    {
     "name": "stdout",
     "output_type": "stream",
     "text": [
      "Test score: 0.467459541607\n",
      "Test accuracy: 0.8806\n",
      "dict_keys(['val_acc', 'val_loss', 'acc', 'loss'])\n"
     ]
    },
    {
     "data": {
      "text/plain": [
       "[<matplotlib.lines.Line2D at 0x2340e2f9f98>]"
      ]
     },
     "execution_count": 19,
     "metadata": {},
     "output_type": "execute_result"
    },
    {
     "data": {
      "text/plain": [
       "[<matplotlib.lines.Line2D at 0x2340e2fea90>]"
      ]
     },
     "execution_count": 19,
     "metadata": {},
     "output_type": "execute_result"
    },
    {
     "data": {
      "text/plain": [
       "<matplotlib.text.Text at 0x2340e1d93c8>"
      ]
     },
     "execution_count": 19,
     "metadata": {},
     "output_type": "execute_result"
    },
    {
     "data": {
      "text/plain": [
       "<matplotlib.text.Text at 0x2340e1be780>"
      ]
     },
     "execution_count": 19,
     "metadata": {},
     "output_type": "execute_result"
    },
    {
     "data": {
      "text/plain": [
       "<matplotlib.text.Text at 0x2340e1d3940>"
      ]
     },
     "execution_count": 19,
     "metadata": {},
     "output_type": "execute_result"
    },
    {
     "data": {
      "text/plain": [
       "<matplotlib.legend.Legend at 0x2340e2feda0>"
      ]
     },
     "execution_count": 19,
     "metadata": {},
     "output_type": "execute_result"
    },
    {
     "data": {
      "application/pdf": "[encoded data removed]",
      "image/png": "[encoded data removed]",
      "text/plain": [
       "<matplotlib.figure.Figure at 0x2340e1b5518>"
      ]
     },
     "metadata": {},
     "output_type": "display_data"
    },
    {
     "name": "stdout",
     "output_type": "stream",
     "text": [
      "Test score: 0.466559301543\n",
      "Test accuracy: 0.8819\n",
      "dict_keys(['val_acc', 'val_loss', 'acc', 'loss'])\n"
     ]
    },
    {
     "data": {
      "text/plain": [
       "[<matplotlib.lines.Line2D at 0x2340f68bd68>]"
      ]
     },
     "execution_count": 19,
     "metadata": {},
     "output_type": "execute_result"
    },
    {
     "data": {
      "text/plain": [
       "[<matplotlib.lines.Line2D at 0x2340f68bef0>]"
      ]
     },
     "execution_count": 19,
     "metadata": {},
     "output_type": "execute_result"
    },
    {
     "data": {
      "text/plain": [
       "<matplotlib.text.Text at 0x2340e28f9e8>"
      ]
     },
     "execution_count": 19,
     "metadata": {},
     "output_type": "execute_result"
    },
    {
     "data": {
      "text/plain": [
       "<matplotlib.text.Text at 0x2340e28b8d0>"
      ]
     },
     "execution_count": 19,
     "metadata": {},
     "output_type": "execute_result"
    },
    {
     "data": {
      "text/plain": [
       "<matplotlib.text.Text at 0x2340e28d6d8>"
      ]
     },
     "execution_count": 19,
     "metadata": {},
     "output_type": "execute_result"
    },
    {
     "data": {
      "text/plain": [
       "<matplotlib.legend.Legend at 0x2340f695438>"
      ]
     },
     "execution_count": 19,
     "metadata": {},
     "output_type": "execute_result"
    },
    {
     "data": {
      "application/pdf": "[encoded data removed]",
      "image/png": "[encoded data removed]",
      "text/plain": [
       "<matplotlib.figure.Figure at 0x2340e27b0b8>"
      ]
     },
     "metadata": {},
     "output_type": "display_data"
    },
    {
     "name": "stdout",
     "output_type": "stream",
     "text": [
      "Test score: 0.470426125503\n",
      "Test accuracy: 0.8837\n",
      "dict_keys(['val_acc', 'val_loss', 'acc', 'loss'])\n"
     ]
    },
    {
     "data": {
      "text/plain": [
       "[<matplotlib.lines.Line2D at 0x23410323978>]"
      ]
     },
     "execution_count": 19,
     "metadata": {},
     "output_type": "execute_result"
    },
    {
     "data": {
      "text/plain": [
       "[<matplotlib.lines.Line2D at 0x23410323c18>]"
      ]
     },
     "execution_count": 19,
     "metadata": {},
     "output_type": "execute_result"
    },
    {
     "data": {
      "text/plain": [
       "<matplotlib.text.Text at 0x2340f7226d8>"
      ]
     },
     "execution_count": 19,
     "metadata": {},
     "output_type": "execute_result"
    },
    {
     "data": {
      "text/plain": [
       "<matplotlib.text.Text at 0x2340f7144e0>"
      ]
     },
     "execution_count": 19,
     "metadata": {},
     "output_type": "execute_result"
    },
    {
     "data": {
      "text/plain": [
       "<matplotlib.text.Text at 0x2340f71c6d8>"
      ]
     },
     "execution_count": 19,
     "metadata": {},
     "output_type": "execute_result"
    },
    {
     "data": {
      "text/plain": [
       "<matplotlib.legend.Legend at 0x23410329f28>"
      ]
     },
     "execution_count": 19,
     "metadata": {},
     "output_type": "execute_result"
    },
    {
     "data": {
      "application/pdf": "[encoded data removed]",
      "image/png": "[encoded data removed]",
      "text/plain": [
       "<matplotlib.figure.Figure at 0x2340f70e208>"
      ]
     },
     "metadata": {},
     "output_type": "display_data"
    }
   ],
   "source": [
    "# Training (You don't need to change this part of the code)\n",
    "for model in model_list_b:\n",
    "    history = model.fit(X_train, Y_train,\n",
    "                        batch_size=batch_size, nb_epoch=nb_epoch,\n",
    "                        verbose=0, validation_data=(X_test, Y_test))\n",
    "    score = model.evaluate(X_test, Y_test, verbose=0)\n",
    "    print('Test score:', score[0])\n",
    "    print('Test accuracy:', score[1])\n",
    "\n",
    "    # list all data in history\n",
    "    print(history.history.keys())\n",
    "    # summarize history for accuracy\n",
    "    plt.plot(history.history['acc'])\n",
    "    plt.plot(history.history['val_acc'])\n",
    "    plt.title('model accuracy')\n",
    "    plt.ylabel('accuracy')\n",
    "    plt.xlabel('epoch')\n",
    "    plt.legend(['train', 'test'], loc='upper left')\n",
    "    plt.show()"
   ]
  },
  {
   "cell_type": "markdown",
   "metadata": {
    "deletable": true,
    "editable": true
   },
   "source": [
    "## Convolutional Neural Networks for Filtering (2 points)\n",
    "\n",
    "Convolutional neural networks are well suited for analyzing images. They can be used to apply various image filtering operations. \n",
    "\n",
    "The goal of this exercise is to design a CNN model that applies 2 filters to its input images. The input images are 128x128 RGB color images, encoded as 128x128x3 tensor with floating point value normalized between 0 and 1. The RGB format is such that the pixels address by: [:, :, 0] encode the red pixels of the image, the pixels addressed by [:, :, 1] define the green pixels and pixels addressed by [:, :, 2] define the blue pixels. \n",
    "\n",
    "Design a convolutional neural network that will: \n",
    "1. Apply the sepia filter to the image\n",
    "2. Apply Gaussian smoothing to the image\n",
    "\n",
    "Use the specification of the sepia and the Gaussian filter below. \n",
    "\n",
    "You answer should contain:\n",
    "    - The definition of the architecture of the CNN\n",
    "        - Number of layers\n",
    "        - Number of filters per layer\n",
    "        - Shape of the filter per layer\n",
    "    - Values of each of the parameters of the CNN when using a 5x5 Gaussian smoothing filter\n",
    "    - The dimensions of the output image when a 5x5 Gaussian smothing is applied\n",
    "\n",
    "\n",
    "The sepia effect gives warmth and a feel of vintage to photographs. The sepia filter is defined as:\n",
    "\n",
    "\\begin{equation}\n",
    "R_o = (R_i * .393) + (G_i *.769) + (B_i * .189)\\\\\n",
    "G_o = (R_i * .349) + (G_i *.686) + (B_i * .168)\\\\\n",
    "B_o = (R_i * .272) + (G_i *.534) + (B_i * .131)\n",
    "\\end{equation}\n",
    "\n",
    "Gaussian blurring is an effect that reduces the noise and details in an image. \n",
    "Gaussian smoothing filter:\n",
    "$$G(x, y)=\\frac{1}{2\\pi\\sigma^2}e^{-\\frac{x^2+y^2}{2\\sigma^2}}$$\n",
    "\n",
    "- A discretized version of the filter is given by the following table:\n",
    "\n",
    "<table>\n",
    "<tr><td>1</td><td>4</td><td>7</td><td>4</td><td>1</td></tr>\n",
    "<tr><td>4</td><td>16</td><td>26</td><td>16</td><td>4</td></tr>\n",
    "<tr><td>7</td><td>26</td><td>41</td><td>26</td><td>7</td></tr>\n",
    "<tr><td>4</td><td>16</td><td>26</td><td>16</td><td>4</td></tr>\n",
    "<tr><td>1</td><td>4</td><td>7</td><td>4</td><td>1</td></tr>\n",
    "</table>\n",
    "\n",
    "\n",
    "- To normalize the filter response, each value should divided by $273$. This is a truncated discretized Gaussian filter with a $\\sigma$ of 1.\n"
   ]
  },
  {
   "cell_type": "code",
   "execution_count": null,
   "metadata": {
    "collapsed": false,
    "deletable": true,
    "editable": true
   },
   "outputs": [
    {
     "name": "stdout",
     "output_type": "stream",
     "text": [
      "x_train shape: (60000, 28, 28, 1)\n",
      "60000 train samples\n",
      "10000 test samples\n"
     ]
    }
   ],
   "source": []
  },
  {
   "cell_type": "markdown",
   "metadata": {
    "deletable": true,
    "editable": true
   },
   "source": [
    "## Model Design (2 Points)\n",
    "\n",
    "Various decisions need to be made in a modeling process to address specific properties of the data and the modeling goal. In this task, you are given a description of a data structure and a goal for which you need to design a model. \n",
    "\n",
    "Produce a figure depicting your model. Briefly explain the figure and justify all decisions made in the modeling process. In detail, describe at least: \n",
    "- Input data format\n",
    "- Number of layers\n",
    "- Type of layers (Dense, Recurrent, Convolutional - 1D, 2D, 3D)\n",
    "- Regularization\n",
    "- Model output\n",
    "- Loss function\n",
    "\n",
    "The training and execution procedures for the model may differ, so you can use different descriptions for both. \n",
    "\n",
    "*Data and goal description:*\n",
    "\n",
    "The goal of this task is to generate captions for short video clips. \n",
    "\n",
    "The video data is structured as sequences of color images. The model needs to be able to process a number of consecutive images that form a short video clip. The training data consists of video clips (few seconds) and a short caption (5-10 words). \n",
    "\n",
    "For simplicity, the accuracy of the model is evaluated on the exact prediction of the caption. In other words, the model needs to produce correctly the specific words in a specific order for each video. "
   ]
  },
  {
   "cell_type": "markdown",
   "metadata": {
    "collapsed": true,
    "deletable": true,
    "editable": true
   },
   "source": [
    "## MNIST Calculator (5 points)\n",
    "\n",
    "During the lectures you have seen a CNN model that can be successfully trained to classify the MNIST images. You have also seen how a RNN model that can be trained to implement addition of two numbers. \n",
    "\n",
    "Using the KERAS (or TensorFlow) library, design and train a model that can learn how to add numbers directly from the MNIST image data. More specifically, the model should input a sequence of a set of images and produces a cumulative sum of the numbers represented by the digits in the images.\n",
    "\n",
    "For example:\n",
    "\n",
    "Input 1: ![294](images/294.png)\n",
    "\n",
    "Input 2: ![61](images/61.png)\n",
    "\n",
    "Output: 355\n",
    "\n",
    "\n"
   ]
  },
  {
   "cell_type": "code",
   "execution_count": 2,
   "metadata": {
    "collapsed": false,
    "deletable": true,
    "editable": true
   },
   "outputs": [
    {
     "name": "stderr",
     "output_type": "stream",
     "text": [
      "Using TensorFlow backend.\n"
     ]
    }
   ],
   "source": [
    "from __future__ import print_function\n",
    "np.random.seed(1234)\n",
    "import keras\n",
    "from keras.datasets import mnist\n",
    "from keras.models import Sequential\n",
    "from keras.layers import Dense, Dropout, Flatten\n",
    "from keras.layers import Conv2D, MaxPooling2D\n",
    "from keras import backend as K\n",
    "from keras.utils import np_utils\n",
    "\n",
    "# Training parameters\n",
    "batch_size = 128\n",
    "num_classes = 10\n",
    "epochs = 12"
   ]
  },
  {
   "cell_type": "code",
   "execution_count": 3,
   "metadata": {
    "collapsed": false,
    "deletable": true,
    "editable": true
   },
   "outputs": [
    {
     "name": "stdout",
     "output_type": "stream",
     "text": [
      "(50000, 28, 56)\n",
      "(10000, 28, 56)\n",
      "(50000,)\n",
      "(10000,)\n"
     ]
    }
   ],
   "source": [
    "\n",
    "# load data\n",
    "(X_train, y_train), (X_test, y_test) = mnist.load_data()\n",
    "X_test_new = []\n",
    "X_train_new = []\n",
    "y_test_new = []\n",
    "y_train_new = []\n",
    "\n",
    "for i in range(1,50001):\n",
    "  \n",
    "    r1 = np.random.randint(60000)\n",
    "    r2 = np.random.randint(60000)\n",
    "    \n",
    "    random1_X_train = X_train[r1].reshape(28, 28)\n",
    "    random2_X_train = X_train[r2].reshape(28, 28)\n",
    "    random_new_X_train = np.concatenate((random1_X_train,random2_X_train), axis=1)\n",
    "  \n",
    "    random1_y_train = y_train[r1]\n",
    "    random2_y_train = y_train[r2]\n",
    "    random_new_y_train = int(str(random1_y_train) + str(random2_y_train))\n",
    "    \n",
    "    X_train_new.append(random_new_X_train)\n",
    "    y_train_new.append(random_new_y_train)\n",
    "    \n",
    "#     print(random_new_y_train)\n",
    "#     plt.imshow(random_new_X_train, cmap=plt.cm.gray_r)\n",
    "#     plt.show()\n",
    "#     print(\"----------\")\n",
    "    \n",
    "for i in range(1,10001):\n",
    "   \n",
    "    r1 = np.random.randint(10000)\n",
    "    r2 = np.random.randint(10000)   \n",
    "\n",
    "    random1_X_test = X_test[r1].reshape(28, 28)\n",
    "    random2_X_test = X_test[r2].reshape(28, 28)\n",
    "    random_new_X_test = np.concatenate((random1_X_test,random2_X_test), axis=1)\n",
    "\n",
    "    random1_y_test = y_test[r1]\n",
    "    random2_y_test = y_test[r2]\n",
    "    random_new_y_test = int(str(random1_y_test) + str(random2_y_test))\n",
    "    \n",
    "    X_test_new.append(random_new_X_test)\n",
    "    y_test_new.append(random_new_y_test)\n",
    "\n",
    "#     print(random_new_y_test)\n",
    "#     plt.imshow(random_new_X_test, cmap=plt.cm.gray_r)\n",
    "#     plt.show()\n",
    "#     print(\"----------\")\n",
    "\n",
    "X_train_new = np.array(X_train_new)\n",
    "X_test_new = np.array(X_test_new)\n",
    "y_train_new = np.array(y_train_new)\n",
    "y_test_new = np.array(y_test_new)\n",
    "\n",
    "print(X_train_new.shape)\n",
    "print(X_test_new.shape)\n",
    "print(y_train_new.shape)\n",
    "print(y_test_new.shape)"
   ]
  },
  {
   "cell_type": "code",
   "execution_count": 4,
   "metadata": {
    "collapsed": false,
    "deletable": true,
    "editable": true
   },
   "outputs": [
    {
     "ename": "NameError",
     "evalue": "name 'np_utils' is not defined",
     "output_type": "error",
     "traceback": [
      "\u001b[0;31m---------------------------------------------------------------------------\u001b[0m",
      "\u001b[0;31mNameError\u001b[0m                                 Traceback (most recent call last)",
      "\u001b[0;32m<ipython-input-4-3a3dee9c6567>\u001b[0m in \u001b[0;36m<module>\u001b[0;34m()\u001b[0m\n\u001b[1;32m     16\u001b[0m \u001b[1;33m\u001b[0m\u001b[0m\n\u001b[1;32m     17\u001b[0m \u001b[1;31m# one hot encode outputs\u001b[0m\u001b[1;33m\u001b[0m\u001b[1;33m\u001b[0m\u001b[0m\n\u001b[0;32m---> 18\u001b[0;31m \u001b[0my_train_new\u001b[0m \u001b[1;33m=\u001b[0m \u001b[0mnp_utils\u001b[0m\u001b[1;33m.\u001b[0m\u001b[0mto_categorical\u001b[0m\u001b[1;33m(\u001b[0m\u001b[0my_train_new\u001b[0m\u001b[1;33m)\u001b[0m\u001b[1;33m\u001b[0m\u001b[0m\n\u001b[0m\u001b[1;32m     19\u001b[0m \u001b[0my_test_new\u001b[0m \u001b[1;33m=\u001b[0m \u001b[0mnp_utils\u001b[0m\u001b[1;33m.\u001b[0m\u001b[0mto_categorical\u001b[0m\u001b[1;33m(\u001b[0m\u001b[0my_test_new\u001b[0m\u001b[1;33m)\u001b[0m\u001b[1;33m\u001b[0m\u001b[0m\n\u001b[1;32m     20\u001b[0m \u001b[0mnum_classes\u001b[0m \u001b[1;33m=\u001b[0m \u001b[0my_test_new\u001b[0m\u001b[1;33m.\u001b[0m\u001b[0mshape\u001b[0m\u001b[1;33m[\u001b[0m\u001b[1;36m1\u001b[0m\u001b[1;33m]\u001b[0m\u001b[1;33m\u001b[0m\u001b[0m\n",
      "\u001b[0;31mNameError\u001b[0m: name 'np_utils' is not defined"
     ]
    }
   ],
   "source": [
    "img_rows = 28\n",
    "img_cols = 56\n",
    "\n",
    "if K.image_data_format() == 'channels_first':\n",
    "    X_train_new = X_train_new.reshape(X_train_new.shape[0], 1, img_rows, img_cols)\n",
    "    X_test_new = X_test_new.reshape(X_test_new.shape[0], 1, img_rows, img_cols)\n",
    "    input_shape = (1, img_rows, img_cols)\n",
    "else:\n",
    "    X_train_new = X_train_new.reshape(X_train_new.shape[0], img_rows, img_cols, 1)\n",
    "    X_test_new = X_test_new.reshape(X_test_new.shape[0], img_rows, img_cols, 1)\n",
    "    input_shape = (img_rows, img_cols, 1)\n",
    "    \n",
    "#normalizing input images from 0-255 to 0-1\n",
    "X_train_new = X_train_new / 255\n",
    "X_test_new = X_test_new / 255\n",
    "\n",
    "# one hot encode outputs\n",
    "y_train_new = np_utils.to_categorical(y_train_new)\n",
    "y_test_new = np_utils.to_categorical(y_test_new)\n",
    "num_classes = y_test_new.shape[1]\n",
    "\n",
    "print(X_train_new.shape)\n",
    "print(X_test_new.shape)\n",
    "print(y_train_new.shape)\n",
    "print(y_test_new.shape)"
   ]
  },
  {
   "cell_type": "code",
   "execution_count": 116,
   "metadata": {
    "collapsed": false,
    "deletable": true,
    "editable": true
   },
   "outputs": [
    {
     "name": "stdout",
     "output_type": "stream",
     "text": [
      "(50000, 28, 56, 1)\n",
      "(10000, 28, 56, 1)\n",
      "(50000, 100)\n",
      "(10000, 100)\n"
     ]
    }
   ],
   "source": [
    "# Model definition\n",
    "\n",
    "model = Sequential()\n",
    "model.add(Conv2D(32, kernel_size=(3, 3),\n",
    "                 activation='relu',\n",
    "                 input_shape=input_shape))\n",
    "model.add(Conv2D(64, (3, 3), activation='relu'))\n",
    "model.add(MaxPooling2D(pool_size=(2, 2)))\n",
    "model.add(Dropout(0.25))\n",
    "model.add(Flatten())\n",
    "model.add(Dense(128, activation='relu'))\n",
    "model.add(Dropout(0.5))\n",
    "model.add(Dense(num_classes, activation='softmax'))\n",
    "\n",
    "model.compile(loss=keras.losses.categorical_crossentropy,\n",
    "              optimizer=keras.optimizers.Adadelta(),\n",
    "              metrics=['accuracy'])\n",
    "\n",
    "print(X_train_new.shape)\n",
    "print(X_test_new.shape)\n",
    "print(y_train_new.shape)\n",
    "print(y_test_new.shape)"
   ]
  },
  {
   "cell_type": "code",
   "execution_count": 118,
   "metadata": {
    "collapsed": false,
    "deletable": true,
    "editable": true
   },
   "outputs": [
    {
     "name": "stdout",
     "output_type": "stream",
     "text": [
      "(50000, 28, 56, 1)\n",
      "(10000, 28, 56, 1)\n",
      "(50000, 100)\n",
      "(10000, 100)\n"
     ]
    },
    {
     "data": {
      "text/plain": [
       "<keras.callbacks.History at 0x1f688e8f780>"
      ]
     },
     "execution_count": 118,
     "metadata": {},
     "output_type": "execute_result"
    },
    {
     "name": "stdout",
     "output_type": "stream",
     "text": [
      "Test loss: 0.0961103723021\n",
      "Test accuracy: 0.9737\n"
     ]
    }
   ],
   "source": [
    "# Training loop\n",
    "print(X_train_new.shape)\n",
    "print(X_test_new.shape)\n",
    "print(y_train_new.shape)\n",
    "print(y_test_new.shape)\n",
    "\n",
    "model.fit(X_train_new, y_train_new,\n",
    "          batch_size=batch_size,\n",
    "          epochs=epochs,\n",
    "          verbose=0,\n",
    "          validation_data=(X_test_new, y_test_new))\n",
    "score = model.evaluate(X_test_new, y_test_new, verbose=0)\n",
    "print('Test loss:', score[0])\n",
    "print('Test accuracy:', score[1])"
   ]
  },
  {
   "cell_type": "code",
   "execution_count": null,
   "metadata": {
    "collapsed": true,
    "deletable": true,
    "editable": true
   },
   "outputs": [],
   "source": []
  }
 ],
 "metadata": {
  "anaconda-cloud": {},
  "kernelspec": {
   "display_name": "Python 3",
   "language": "python",
   "name": "python3"
  },
  "language_info": {
   "codemirror_mode": {
    "name": "ipython",
    "version": 3
   },
   "file_extension": ".py",
   "mimetype": "text/x-python",
   "name": "python",
   "nbconvert_exporter": "python",
   "pygments_lexer": "ipython3",
   "version": "3.5.2"
  }
 },
 "nbformat": 4,
 "nbformat_minor": 1
}
