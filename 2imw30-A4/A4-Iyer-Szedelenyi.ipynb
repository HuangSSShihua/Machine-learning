{
 "cells": [
  {
   "cell_type": "markdown",
   "metadata": {
    "deletable": true,
    "editable": true
   },
   "source": [
    "# Foundations of Data Mining: Assignment 4\n",
    "\n",
    "Please complete all assignments in this notebook. You should submit this notebook, as well as a PDF version (See File > Download as)."
   ]
  },
  {
   "cell_type": "code",
   "execution_count": 1,
   "metadata": {
    "collapsed": true,
    "deletable": true,
    "editable": true
   },
   "outputs": [],
   "source": [
    "%matplotlib inline\n",
    "from preamble import *\n",
    "plt.rcParams['savefig.dpi'] = 100 # This controls the size of your figures\n",
    "# Comment out and restart notebook if you only want the last output of each cell.\n",
    "InteractiveShell.ast_node_interactivity = \"all\""
   ]
  },
  {
   "cell_type": "markdown",
   "metadata": {
    "deletable": true,
    "editable": true
   },
   "source": [
    "## Backpropagation (3 points)\n",
    "\n",
    "Figure 1 illustrates a simple neural network model.\n",
    "\n",
    "![Figure 1](images/assignment/small-net.png)\n",
    "\n",
    "It has single input $x$, two layers with one neuron each. The activation function of both layers is ReLU. \n",
    "\n",
    "The parameters $w_0$ and $w_1$ (no biases) are initialized to the following values $w_0 = 1$ and $w_1 = 2$. Implement a single update step of the gradient descent algorithm by hand. Run the update state for the following two data points:\n",
    "\n",
    "* $(1, 2)$ \n",
    "* $(2, 3)$\n",
    "\n",
    "The goal is to model the relationship between two continuous variables. The learning rate is set to $0.1$\n",
    "\n",
    "Provide the solution in the following format:\n",
    "\n",
    "- A choice for a loss function \n",
    "- Compute graph for training the neural network\n",
    "- Partial derivative expression for each of the parameters in the model\n",
    "- The update expression for each of the parameters for each of the data-points\n",
    "- The final value of both parameters after the single step in the gradient descent algorithm"
   ]
  },
  {
   "cell_type": "markdown",
   "metadata": {
    "deletable": true,
    "editable": true
   },
   "source": [
    "We will use the Mean square error loss function $L = \\frac{1}{2n}\\sum_{i=0}^{n}{(\\hat{y} - y)^2}$.\n",
    "\n",
    "Compute graph:  \n",
    "For data point (1,2)\n",
    "![Figure 2](images/assignment/fig1.png)\n",
    "For data point (2,3)\n",
    "![Figure 3](images/assignment/fig2.png)\n",
    "\n",
    "Partial derivative expression for each of the parameters in the model:  \n",
    "$\\frac{\\partial}{\\partial w}{L} = x \\cdot (w \\cdot x-y)$  \n",
    "$\\frac{\\partial}{\\partial b}{L} = 0$  \n",
    "\n",
    "The update expression for each of the parameters for each of the data-points:\n",
    "$$w \\gets w - \\alpha x \\cdot (w \\cdot x-y)$$ \n",
    "$$b \\gets b$$ \n",
    "\n",
    "The final value of both parameters after the single step in the gradient descent algorithm:  \n",
    "For data point (1,2)\n",
    "$$w \\gets 1 - 0.1 \\cdot 1 \\cdot (1 \\cdot 1-2)$$ \n",
    "$$w \\gets 1.1$$  \n",
    "$$b \\gets 0$$\n",
    "For data point (2,3)\n",
    "$$w \\gets 1 - 0.1 \\cdot 1 \\cdot (2 \\cdot 2-3)$$ \n",
    "$$w \\gets 1 - 0.1 \\cdot 1 \\cdot 1$$ \n",
    "$$w \\gets 0.8$$  \n",
    "$$b \\gets 0$$"
   ]
  },
  {
   "cell_type": "markdown",
   "metadata": {
    "deletable": true,
    "editable": true
   },
   "source": [
    "## Training Deep Models (3 points)\n",
    "\n",
    "The model in the example code below performs poorly as its depth increases. Train this model on the MNIST digit detection task. \n",
    "\n",
    "Examine its training performance by gradually increasing its depth:\n",
    "- Set the depth to 1 hidden layer\n",
    "- Set the depth to 2 hidden layers\n",
    "- Set the depth to 3 hidden layers\n",
    "\n",
    "Modify the model such that you improve its performance when its depth increases. Train the new model again for the different depths:\n",
    "- Set the depth to 1 hidden layer\n",
    "- Set the depth to 2 hidden layers\n",
    "- Set the depth to 3 hidden layers\n",
    "\n",
    "Submit an explanation for the limitation of the original model. Explain your modification. \n",
    "Submit your code and 6 plots (can be overlaid) for the training performance of both models with different depths. \n",
    "\n"
   ]
  },
  {
   "cell_type": "code",
   "execution_count": 39,
   "metadata": {
    "collapsed": false,
    "deletable": true,
    "editable": true
   },
   "outputs": [],
   "source": [
    "# (You don't need to change this part of the code)\n",
    "from __future__ import print_function\n",
    "import numpy as np\n",
    "np.random.seed(1234)\n",
    "\n",
    "from keras.datasets import mnist\n",
    "from keras.models import Sequential\n",
    "from keras.layers.core import Dense, Dropout, Activation\n",
    "from keras.optimizers import SGD\n",
    "from keras.utils import np_utils\n",
    "\n",
    "\n",
    "import matplotlib.pyplot as plt\n",
    "\n",
    "batch_size = 128\n",
    "nb_classes = 10\n",
    "nb_epoch = 10"
   ]
  },
  {
   "cell_type": "code",
   "execution_count": 40,
   "metadata": {
    "collapsed": false,
    "deletable": true,
    "editable": true
   },
   "outputs": [
    {
     "name": "stdout",
     "output_type": "stream",
     "text": [
      "60000 train samples\n",
      "10000 test samples\n"
     ]
    }
   ],
   "source": [
    "# (You don't need to change this part of the code)\n",
    "# the data, shuffled and split between train and test sets\n",
    "(X_train, y_train), (X_test, y_test) = mnist.load_data()\n",
    "\n",
    "X_train = X_train.reshape(60000, 784)\n",
    "X_test = X_test.reshape(10000, 784)\n",
    "\n",
    "X_train = X_train.astype('float32')\n",
    "X_test = X_test.astype('float32')\n",
    "X_train /= 255\n",
    "X_test /= 255\n",
    "print(X_train.shape[0], 'train samples')\n",
    "print(X_test.shape[0], 'test samples')\n",
    "\n",
    "# convert class vectors to binary class matrices\n",
    "Y_train = np_utils.to_categorical(y_train, nb_classes)\n",
    "Y_test = np_utils.to_categorical(y_test, nb_classes)"
   ]
  },
  {
   "cell_type": "code",
   "execution_count": 41,
   "metadata": {
    "collapsed": true,
    "deletable": true,
    "editable": true
   },
   "outputs": [],
   "source": [
    "# Use this parameter to change the depth of the model\n",
    "number_hidden_layers = range(1, 4)  # Number of hidden layers"
   ]
  },
  {
   "cell_type": "code",
   "execution_count": 42,
   "metadata": {
    "collapsed": false,
    "deletable": true,
    "editable": true,
    "scrolled": true
   },
   "outputs": [
    {
     "name": "stdout",
     "output_type": "stream",
     "text": [
      "Original model, nr_hidden_layers: 1\n",
      "_________________________________________________________________\n",
      "Layer (type)                 Output Shape              Param #   \n",
      "=================================================================\n",
      "dense_16 (Dense)             (None, 512)               401920    \n",
      "_________________________________________________________________\n",
      "dropout_1 (Dropout)          (None, 512)               0         \n",
      "_________________________________________________________________\n",
      "dense_17 (Dense)             (None, 10)                5130      \n",
      "=================================================================\n",
      "Total params: 407,050.0\n",
      "Trainable params: 407,050.0\n",
      "Non-trainable params: 0.0\n",
      "_________________________________________________________________\n",
      "Original model, nr_hidden_layers: 2\n",
      "_________________________________________________________________\n",
      "Layer (type)                 Output Shape              Param #   \n",
      "=================================================================\n",
      "dense_18 (Dense)             (None, 512)               401920    \n",
      "_________________________________________________________________\n",
      "dropout_2 (Dropout)          (None, 512)               0         \n",
      "_________________________________________________________________\n",
      "dense_19 (Dense)             (None, 512)               262656    \n",
      "_________________________________________________________________\n",
      "dropout_3 (Dropout)          (None, 512)               0         \n",
      "_________________________________________________________________\n",
      "dense_20 (Dense)             (None, 10)                5130      \n",
      "=================================================================\n",
      "Total params: 669,706.0\n",
      "Trainable params: 669,706.0\n",
      "Non-trainable params: 0.0\n",
      "_________________________________________________________________\n",
      "Original model, nr_hidden_layers: 3\n",
      "_________________________________________________________________\n",
      "Layer (type)                 Output Shape              Param #   \n",
      "=================================================================\n",
      "dense_21 (Dense)             (None, 512)               401920    \n",
      "_________________________________________________________________\n",
      "dropout_4 (Dropout)          (None, 512)               0         \n",
      "_________________________________________________________________\n",
      "dense_22 (Dense)             (None, 512)               262656    \n",
      "_________________________________________________________________\n",
      "dropout_5 (Dropout)          (None, 512)               0         \n",
      "_________________________________________________________________\n",
      "dense_23 (Dense)             (None, 512)               262656    \n",
      "_________________________________________________________________\n",
      "dropout_6 (Dropout)          (None, 512)               0         \n",
      "_________________________________________________________________\n",
      "dense_24 (Dense)             (None, 10)                5130      \n",
      "=================================================================\n",
      "Total params: 932,362.0\n",
      "Trainable params: 932,362.0\n",
      "Non-trainable params: 0.0\n",
      "_________________________________________________________________\n",
      "New model, nr_hidden_layers: 1\n",
      "_________________________________________________________________\n",
      "Layer (type)                 Output Shape              Param #   \n",
      "=================================================================\n",
      "dense_25 (Dense)             (None, 512)               401920    \n",
      "_________________________________________________________________\n",
      "dropout_7 (Dropout)          (None, 512)               0         \n",
      "_________________________________________________________________\n",
      "dense_26 (Dense)             (None, 10)                5130      \n",
      "=================================================================\n",
      "Total params: 407,050.0\n",
      "Trainable params: 407,050.0\n",
      "Non-trainable params: 0.0\n",
      "_________________________________________________________________\n",
      "New model, nr_hidden_layers: 2\n",
      "_________________________________________________________________\n",
      "Layer (type)                 Output Shape              Param #   \n",
      "=================================================================\n",
      "dense_27 (Dense)             (None, 512)               401920    \n",
      "_________________________________________________________________\n",
      "dropout_8 (Dropout)          (None, 512)               0         \n",
      "_________________________________________________________________\n",
      "dense_28 (Dense)             (None, 512)               262656    \n",
      "_________________________________________________________________\n",
      "dropout_9 (Dropout)          (None, 512)               0         \n",
      "_________________________________________________________________\n",
      "dense_29 (Dense)             (None, 10)                5130      \n",
      "=================================================================\n",
      "Total params: 669,706.0\n",
      "Trainable params: 669,706.0\n",
      "Non-trainable params: 0.0\n",
      "_________________________________________________________________\n",
      "New model, nr_hidden_layers: 3\n",
      "_________________________________________________________________\n",
      "Layer (type)                 Output Shape              Param #   \n",
      "=================================================================\n",
      "dense_30 (Dense)             (None, 512)               401920    \n",
      "_________________________________________________________________\n",
      "dropout_10 (Dropout)         (None, 512)               0         \n",
      "_________________________________________________________________\n",
      "dense_31 (Dense)             (None, 512)               262656    \n",
      "_________________________________________________________________\n",
      "dropout_11 (Dropout)         (None, 512)               0         \n",
      "_________________________________________________________________\n",
      "dense_32 (Dense)             (None, 512)               262656    \n",
      "_________________________________________________________________\n",
      "dropout_12 (Dropout)         (None, 512)               0         \n",
      "_________________________________________________________________\n",
      "dense_33 (Dense)             (None, 10)                5130      \n",
      "=================================================================\n",
      "Total params: 932,362.0\n",
      "Trainable params: 932,362.0\n",
      "Non-trainable params: 0.0\n",
      "_________________________________________________________________\n"
     ]
    }
   ],
   "source": [
    "# Model\n",
    "models = []\n",
    "\n",
    "def original_model(number_hidden_layers):\n",
    "    model = Sequential()\n",
    "    model.add(Dense(512, input_shape=(784,), activation='sigmoid'))\n",
    "    model.add(Dropout(0.2))\n",
    "\n",
    "    while number_hidden_layers > 1:\n",
    "        model.add(Dense(512, activation='sigmoid'))\n",
    "        model.add(Dropout(0.2))\n",
    "        number_hidden_layers -= 1\n",
    "\n",
    "    model.add(Dense(10, activation='softmax'))\n",
    "    model.summary()\n",
    "    model.compile(loss='categorical_crossentropy', optimizer=SGD(), metrics=['accuracy'])\n",
    "    return model\n",
    "\n",
    "def new_model(number_hidden_layers):\n",
    "    model = Sequential()\n",
    "    model.add(Dense(512, input_shape=(784,), activation='relu'))\n",
    "    model.add(Dropout(0.2))\n",
    "\n",
    "    while number_hidden_layers > 1:\n",
    "        model.add(Dense(512, activation='relu'))\n",
    "        model.add(Dropout(0.2))\n",
    "        number_hidden_layers -= 1\n",
    "\n",
    "    model.add(Dense(10, activation='softmax'))\n",
    "    model.summary()\n",
    "    model.compile(loss='categorical_crossentropy', optimizer='adam', metrics=['accuracy'])\n",
    "    return model\n",
    "\n",
    "# Original models\n",
    "for nhl in number_hidden_layers:\n",
    "    title = 'Original model, nr_hidden_layers: %d' % nhl\n",
    "    print(title)\n",
    "    models.append((title, original_model(nhl)))\n",
    "\n",
    "# Create modified models\n",
    "for nhl in number_hidden_layers:\n",
    "    title = 'New model, nr_hidden_layers: %d' % nhl\n",
    "    print(title)\n",
    "    models.append(('New model, nr_hidden_layers: %d' % nhl, new_model(nhl)))"
   ]
  },
  {
   "cell_type": "code",
   "execution_count": 43,
   "metadata": {
    "collapsed": false,
    "deletable": true,
    "editable": true,
    "scrolled": true
   },
   "outputs": [
    {
     "name": "stdout",
     "output_type": "stream",
     "text": [
      "Original model, nr_hidden_layers: 1\n",
      "Test score: 0.466477108598\n",
      "Test accuracy: 0.8823\n",
      "dict_keys(['acc', 'val_loss', 'val_acc', 'loss'])\n",
      "Original model, nr_hidden_layers: 2\n",
      "Test score: 0.860824099064\n",
      "Test accuracy: 0.7861\n",
      "dict_keys(['acc', 'val_loss', 'val_acc', 'loss'])\n",
      "Original model, nr_hidden_layers: 3\n",
      "Test score: 2.23315433655\n",
      "Test accuracy: 0.3406\n",
      "dict_keys(['acc', 'val_loss', 'val_acc', 'loss'])\n",
      "New model, nr_hidden_layers: 1\n",
      "Test score: 0.0553619207146\n",
      "Test accuracy: 0.9828\n",
      "dict_keys(['acc', 'val_loss', 'val_acc', 'loss'])\n",
      "New model, nr_hidden_layers: 2\n",
      "Test score: 0.0731036635918\n",
      "Test accuracy: 0.9806\n",
      "dict_keys(['acc', 'val_loss', 'val_acc', 'loss'])\n",
      "New model, nr_hidden_layers: 3\n",
      "Test score: 0.0748932756932\n",
      "Test accuracy: 0.9814\n",
      "dict_keys(['acc', 'val_loss', 'val_acc', 'loss'])\n"
     ]
    },
    {
     "data": {
      "application/pdf": "[encoded data removed]",
      "image/png": "[encoded data removed]",
      "text/plain": [
       "<matplotlib.figure.Figure at 0x1df10753048>"
      ]
     },
     "metadata": {},
     "output_type": "display_data"
    }
   ],
   "source": [
    "# Build plots\n",
    "fig = plt.figure(figsize=(12, 12))\n",
    "\n",
    "# Training (You don't need to change this part of the code)\n",
    "for i, (title, model) in enumerate(models):\n",
    "    print(title)\n",
    "    history = model.fit(X_train, Y_train,\n",
    "                        batch_size=batch_size, nb_epoch=nb_epoch,\n",
    "                        verbose=0, validation_data=(X_test, Y_test))\n",
    "    score = model.evaluate(X_test, Y_test, verbose=0)\n",
    "    print('Test score:', score[0])\n",
    "    print('Test accuracy:', score[1])\n",
    "\n",
    "    # list all data in history\n",
    "    print(history.history.keys())\n",
    "    # summarize history for accuracy\n",
    "    ax = fig.add_subplot(321+i)\n",
    "    _ = ax.plot(history.history['acc'])\n",
    "    _ = ax.plot(history.history['val_acc'])\n",
    "    _ = ax.set_title(title + ', model accuracy')\n",
    "    _ = ax.set_ylabel('accuracy')\n",
    "    _ = ax.set_xlabel('epoch')\n",
    "    _ = ax.legend(['train', 'test'], loc='upper left')"
   ]
  },
  {
   "cell_type": "markdown",
   "metadata": {
    "deletable": true,
    "editable": true
   },
   "source": [
    "## Convolutional Neural Networks for Filtering (2 points)\n",
    "\n",
    "Convolutional neural networks are well suited for analyzing images. They can be used to apply various image filtering operations. \n",
    "\n",
    "The goal of this exercise is to design a CNN model that applies 2 filters to its input images. The input images are 128x128 RGB color images, encoded as 128x128x3 tensor with floating point value normalized between 0 and 1. The RGB format is such that the pixels address by: [:, :, 0] encode the red pixels of the image, the pixels addressed by [:, :, 1] define the green pixels and pixels addressed by [:, :, 2] define the blue pixels. \n",
    "\n",
    "Design a convolutional neural network that will: \n",
    "1. Apply the sepia filter to the image\n",
    "2. Apply Gaussian smoothing to the image\n",
    "\n",
    "Use the specification of the sepia and the Gaussian filter below. \n",
    "\n",
    "You answer should contain:\n",
    "    - The definition of the architecture of the CNN\n",
    "        - Number of layers\n",
    "        - Number of filters per layer\n",
    "        - Shape of the filter per layer\n",
    "    - Values of each of the parameters of the CNN when using a 5x5 Gaussian smoothing filter\n",
    "    - The dimensions of the output image when a 5x5 Gaussian smothing is applied\n",
    "\n",
    "\n",
    "The sepia effect gives warmth and a feel of vintage to photographs. The sepia filter is defined as:\n",
    "\n",
    "\\begin{equation}\n",
    "R_o = (R_i * .393) + (G_i *.769) + (B_i * .189)\\\\\n",
    "G_o = (R_i * .349) + (G_i *.686) + (B_i * .168)\\\\\n",
    "B_o = (R_i * .272) + (G_i *.534) + (B_i * .131)\n",
    "\\end{equation}\n",
    "\n",
    "Gaussian blurring is an effect that reduces the noise and details in an image. \n",
    "Gaussian smoothing filter:\n",
    "$$G(x, y)=\\frac{1}{2\\pi\\sigma^2}e^{-\\frac{x^2+y^2}{2\\sigma^2}}$$\n",
    "\n",
    "- A discretized version of the filter is given by the following table:\n",
    "\n",
    "<table>\n",
    "<tr><td>1</td><td>4</td><td>7</td><td>4</td><td>1</td></tr>\n",
    "<tr><td>4</td><td>16</td><td>26</td><td>16</td><td>4</td></tr>\n",
    "<tr><td>7</td><td>26</td><td>41</td><td>26</td><td>7</td></tr>\n",
    "<tr><td>4</td><td>16</td><td>26</td><td>16</td><td>4</td></tr>\n",
    "<tr><td>1</td><td>4</td><td>7</td><td>4</td><td>1</td></tr>\n",
    "</table>\n",
    "\n",
    "\n",
    "- To normalize the filter response, each value should divided by $273$. This is a truncated discretized Gaussian filter with a $\\sigma$ of 1.\n"
   ]
  },
  {
   "cell_type": "markdown",
   "metadata": {
    "deletable": true,
    "editable": true
   },
   "source": [
    "https://github.com/fchollet/keras/issues/3720\n",
    "- The definition of the architecture of the CNN  \n",
    "    $\\bf Input \\, layer$: Convolutional layer with 3 filters of size 1x1 and stride=1 to apply the Sepia filter. Number of filters = 3 because there are 3 color channels each with different weights for $(R_i, G_i, B_i)$. Filter size=1x1 and stride=1 because we want to calculate $R_o, G_o, B_o$ per pixel.   \n",
    "    $\\bf Second \\, layer$: Convolutional layer with 3 filters of size 5x5 and stride=1 for Gaussian filter. Use border_mode=\"same\" so filters go \"outside\" the image by filter_size/2 for edge pixels. Use the normalized Gaussian kernel as a custom kernel initializer i.e.\n",
    "$$\\frac{1}{273} \\cdot\\begin{bmatrix}\n",
    "1&4&7&4&1\\\\\n",
    "4&16&26&16&4\\\\\n",
    "7&26&41&26&7\\\\\n",
    "4&16&26&16&4\\\\\n",
    "1&4&7&4&1\\\\\n",
    "\\end{bmatrix}$$\n",
    "    $\\bf Output \\, layer$: A fully-connected (dense) layer of size=3 with Identity activation function.\n",
    "- Values of each of the parameters of the CNN when using a 5x5 Gaussian smoothing filter  \n",
    "    Number of filters=3, kernel size=(5, 5), border mode=\"same\", strides=1\n",
    "- The dimensions of the output image when a 5x5 Gaussian smoothing is applied: 128x128x3. The specified filters do not and technically should not change the dimensions of the image at all."
   ]
  },
  {
   "cell_type": "markdown",
   "metadata": {
    "deletable": true,
    "editable": true
   },
   "source": [
    "## Model Design (2 Points)\n",
    "\n",
    "Various decisions need to be made in a modeling process to address specific properties of the data and the modeling goal. In this task, you are given a description of a data structure and a goal for which you need to design a model. \n",
    "\n",
    "Produce a figure depicting your model. Briefly explain the figure and justify all decisions made in the modeling process. In detail, describe at least: \n",
    "- Input data format\n",
    "- Number of layers\n",
    "- Type of layers (Dense, Recurrent, Convolutional - 1D, 2D, 3D)\n",
    "- Regularization\n",
    "- Model output\n",
    "- Loss function\n",
    "\n",
    "The training and execution procedures for the model may differ, so you can use different descriptions for both. \n",
    "\n",
    "*Data and goal description:*\n",
    "\n",
    "The goal of this task is to generate captions for short video clips. \n",
    "\n",
    "The video data is structured as sequences of color images. The model needs to be able to process a number of consecutive images that form a short video clip. The training data consists of video clips (few seconds) and a short caption (5-10 words). \n",
    "\n",
    "For simplicity, the accuracy of the model is evaluated on the exact prediction of the caption. In other words, the model needs to produce correctly the specific words in a specific order for each video. "
   ]
  },
  {
   "cell_type": "markdown",
   "metadata": {
    "collapsed": true,
    "deletable": true,
    "editable": true
   },
   "source": [
    "## MNIST Calculator (5 points)\n",
    "\n",
    "During the lectures you have seen a CNN model that can be successfully trained to classify the MNIST images. You have also seen how a RNN model that can be trained to implement addition of two numbers. \n",
    "\n",
    "Using the KERAS (or TensorFlow) library, design and train a model that can learn how to add numbers directly from the MNIST image data. More specifically, the model should input a sequence of a set of images and produces a cumulative sum of the numbers represented by the digits in the images.\n",
    "\n",
    "For example:\n",
    "\n",
    "Input 1: ![294](images/294.png)\n",
    "\n",
    "Input 2: ![61](images/61.png)\n",
    "\n",
    "Output: 355"
   ]
  },
  {
   "cell_type": "code",
   "execution_count": 27,
   "metadata": {
    "collapsed": false,
    "deletable": true,
    "editable": true
   },
   "outputs": [],
   "source": [
    "class CharacterTable(object):\n",
    "    '''\n",
    "    Given a set of characters:\n",
    "    + Encode them to a one hot integer representation\n",
    "    + Decode the one hot integer representation to their character output\n",
    "    + Decode a vector of probabilities to their character output\n",
    "    '''\n",
    "    def __init__(self, chars, maxlen):\n",
    "        self.chars = sorted(set(chars))\n",
    "        self.char_indices = dict((c, i) for i, c in enumerate(self.chars))\n",
    "        self.indices_char = dict((i, c) for i, c in enumerate(self.chars))\n",
    "        self.maxlen = maxlen\n",
    "\n",
    "    def encode(self, C, maxlen=None):\n",
    "        maxlen = maxlen if maxlen else self.maxlen\n",
    "        X = np.zeros((maxlen, len(self.chars)))\n",
    "        for i, c in enumerate(C):\n",
    "            X[i, self.char_indices[c]] = 1\n",
    "        return X\n",
    "\n",
    "    def decode(self, X, calc_argmax=True):\n",
    "        if calc_argmax:\n",
    "            X = X.argmax(axis=-1)\n",
    "        return ''.join(self.indices_char[x] for x in X)"
   ]
  },
  {
   "cell_type": "code",
   "execution_count": 28,
   "metadata": {
    "collapsed": false,
    "deletable": true,
    "editable": true
   },
   "outputs": [
    {
     "name": "stdout",
     "output_type": "stream",
     "text": [
      "60000 train samples\n",
      "10000 test samples\n"
     ]
    }
   ],
   "source": [
    "from keras.datasets import mnist\n",
    "from keras import backend as K\n",
    "\n",
    "# (You don't need to change this part of the code)\n",
    "# the data, shuffled and split between train and test sets\n",
    "(X_train, y_train), (X_test, y_test) = mnist.load_data()\n",
    "X_train = X_train.reshape(60000, 784)\n",
    "X_test = X_test.reshape(10000, 784)\n",
    "y_train, y_test = y_train.astype('str'), y_test.astype('str')\n",
    "\n",
    "# input image dimensions\n",
    "img_rows, img_cols = 28, 28\n",
    "\n",
    "if K.image_data_format() == 'channels_first':\n",
    "    X_train = X_train.reshape(X_train.shape[0], 1, img_rows, img_cols)\n",
    "    X_test = X_test.reshape(X_test.shape[0], 1, img_rows, img_cols)\n",
    "    input_shape = (1, img_rows, img_cols)\n",
    "else:\n",
    "    X_train = X_train.reshape(X_train.shape[0], img_rows, img_cols, 1)\n",
    "    X_test = X_test.reshape(X_test.shape[0], img_rows, img_cols, 1)\n",
    "    input_shape = (img_rows, img_cols, 1)\n",
    "\n",
    "X_train = X_train.astype('float32')\n",
    "X_test = X_test.astype('float32')\n",
    "X_train /= 255\n",
    "X_test /= 255\n",
    "print(X_train.shape[0], 'train samples')\n",
    "print(X_test.shape[0], 'test samples')"
   ]
  },
  {
   "cell_type": "code",
   "execution_count": 39,
   "metadata": {
    "collapsed": false,
    "deletable": true,
    "editable": true
   },
   "outputs": [
    {
     "name": "stdout",
     "output_type": "stream",
     "text": [
      "(3600, 2, 10, 28, 28, 1) (3600, 11, 11)\n",
      "(400, 2, 10, 28, 28, 1) (400, 11, 11)\n"
     ]
    }
   ],
   "source": [
    "from keras.engine.training import _slice_arrays\n",
    "\n",
    "# Build training data\n",
    "TRAINING_SIZE = 4000\n",
    "DIGITS = 10\n",
    "chars = '0123456789 '\n",
    "ctable = CharacterTable(chars, DIGITS)\n",
    "f = lambda: np.random.choice(X_train.shape[0], \n",
    "                             size=np.random.randint(1, DIGITS + 1))\n",
    "X_new, y_new = [], []\n",
    "seen = set()\n",
    "\n",
    "while len(X_new) < TRAINING_SIZE:\n",
    "    # Get indices of random digits for two numbers\n",
    "    a, b = f(), f()\n",
    "    \n",
    "    # Get the images of the corresponding random digits\n",
    "    x1, x2 = X_train[a], X_train[b]\n",
    "    y1, y2 = int(''.join(y_train[a])), int(''.join(y_train[b]))\n",
    "    data = (y1, y2)\n",
    "    if data in seen:\n",
    "        continue\n",
    "    seen.add(data)\n",
    "    \n",
    "    # Pad the data with null images\n",
    "    x1.resize((DIGITS, *x1.shape[1:]))\n",
    "    x2.resize((DIGITS, *x1.shape[1:]))\n",
    "    \n",
    "    # Append the images data\n",
    "    X_new.append([x1, x2])\n",
    "    \n",
    "    # Append the answer\n",
    "    ans = str(y1 + y2)\n",
    "    # Answers can be of maximum size DIGITS + 1\n",
    "    ans += ' ' * (DIGITS + 1 - len(ans))\n",
    "    y_new.append(ctable.encode(ans, maxlen=DIGITS+1))\n",
    "\n",
    "# Save memory\n",
    "del seen, x1, x2, data, y1, y2\n",
    "\n",
    "X_new, y_new = np.array(X_new), np.array(y_new)\n",
    "\n",
    "# Shuffle (X_new, y_new) in unison as the later parts of X_new \n",
    "# will almost all be larger digits\n",
    "indices = np.arange(len(y_new))\n",
    "np.random.shuffle(indices)\n",
    "X_new = X_new[indices]\n",
    "y_new = y_new[indices]\n",
    "\n",
    "# Save memory!\n",
    "del indices\n",
    "\n",
    "# Explicitly set apart 10% for test data that we never train over\n",
    "split_at = int(len(X_new) - len(X_new) / 10)\n",
    "(X_train_new, X_test_new) = (_slice_arrays(X_new, 0, split_at), \n",
    "                             _slice_arrays(X_new, split_at))\n",
    "(y_train_new, y_test_new) = (y_new[:split_at], y_new[split_at:])\n",
    "\n",
    "# Save memory!!\n",
    "del X_new, y_new\n",
    "\n",
    "print(X_train_new.shape, y_train_new.shape)\n",
    "print(X_test_new.shape, y_test_new.shape)"
   ]
  },
  {
   "cell_type": "code",
   "execution_count": 41,
   "metadata": {
    "collapsed": false,
    "deletable": true,
    "editable": true
   },
   "outputs": [
    {
     "name": "stdout",
     "output_type": "stream",
     "text": [
      "Build model...\n"
     ]
    },
    {
     "data": {
      "text/plain": [
       "[((200, 2, 10, 28, 28, 1), 'reshape_23', (200, 20, 28, 28, 1)),\n",
       " ((200, 20, 28, 28, 1), 'time_distributed_56', (200, 20, 26, 26, 32)),\n",
       " ((200, 20, 26, 26, 32), 'activation_34', (200, 20, 26, 26, 32)),\n",
       " ((200, 20, 26, 26, 32), 'time_distributed_57', (200, 20, 24, 24, 64)),\n",
       " ((200, 20, 24, 24, 64), 'activation_35', (200, 20, 24, 24, 64)),\n",
       " ((200, 20, 24, 24, 64), 'time_distributed_58', (200, 20, 12, 12, 64)),\n",
       " ((200, 20, 12, 12, 64), 'reshape_24', (200, 2, 10, 9216)),\n",
       " ((200, 2, 10, 9216), 'time_distributed_59', (200, 2, 92160)),\n",
       " ((200, 2, 92160), 'simple_rnn_23', (200, 128)),\n",
       " ((200, 128), 'repeat_vector_12', (200, 11, 128)),\n",
       " ((200, 11, 128), 'simple_rnn_24', (200, 11, 128)),\n",
       " ((200, 11, 128), 'time_distributed_60', (200, 11, 11)),\n",
       " ((200, 11, 11), 'activation_36', (200, 11, 11))]"
      ]
     },
     "execution_count": 41,
     "metadata": {},
     "output_type": "execute_result"
    }
   ],
   "source": [
    "# (You don't need to change this part of the code)\n",
    "from __future__ import print_function\n",
    "import numpy as np\n",
    "np.random.seed(1234)\n",
    "\n",
    "import keras\n",
    "from keras.datasets import mnist\n",
    "from keras.models import Sequential\n",
    "from keras.layers import recurrent, Conv2D, MaxPooling2D\n",
    "from keras.layers import Reshape, Flatten, RepeatVector\n",
    "from keras.layers.core import Dense, Dropout, Activation\n",
    "from keras.layers.wrappers import TimeDistributed\n",
    "\n",
    "RNN = recurrent.SimpleRNN\n",
    "HIDDEN_SIZE = 128\n",
    "BATCH_SIZE = 200\n",
    "\n",
    "# Build the model\n",
    "print('Build model...')\n",
    "model = Sequential()\n",
    "\n",
    "# Rehshape the input for the image identification layers\n",
    "model.add(Reshape((-1, *X_train_new.shape[-3:]), \n",
    "                  input_shape=X_train_new.shape[1:],\n",
    "                  batch_input_shape=(BATCH_SIZE,)+X_train_new.shape[1:]))\n",
    "\n",
    "# Image identification\n",
    "model.add(TimeDistributed(Conv2D(32, kernel_size=(3, 3))))\n",
    "model.add(Activation('relu'))\n",
    "model.add(TimeDistributed(Conv2D(64, kernel_size=(3, 3))))\n",
    "model.add(Activation('relu'))\n",
    "model.add(TimeDistributed(MaxPooling2D(pool_size=(2, 2))))\n",
    "\n",
    "# Reshape the input for RNN\n",
    "model.add(Reshape((*X_train_new.shape[1:3], -1)))\n",
    "model.add(TimeDistributed(Flatten()))\n",
    "\n",
    "# Learning to add numbers in images\n",
    "model.add(RNN(HIDDEN_SIZE))\n",
    "model.add(RepeatVector(DIGITS + 1))\n",
    "model.add(RNN(HIDDEN_SIZE, stateful=False, return_sequences=True))\n",
    "\n",
    "# For each of step of the output sequence, decide which \n",
    "# character should be chosen\n",
    "model.add(TimeDistributed(Dense(len(chars))))\n",
    "model.add(Activation('softmax'))\n",
    "\n",
    "# Compile the model\n",
    "model.compile(loss='categorical_crossentropy', optimizer='adam', \n",
    "              metrics=['accuracy'])\n",
    "[(x.input_shape, x.name, x.output_shape) for x in model.layers]"
   ]
  },
  {
   "cell_type": "code",
   "execution_count": 42,
   "metadata": {
    "collapsed": false,
    "deletable": true,
    "editable": true
   },
   "outputs": [
    {
     "ename": "KeyboardInterrupt",
     "evalue": "",
     "output_type": "error",
     "traceback": [
      "\u001b[0;31m---------------------------------------------------------------------------\u001b[0m",
      "\u001b[0;31mKeyboardInterrupt\u001b[0m                         Traceback (most recent call last)",
      "\u001b[0;32m<ipython-input-42-9ef026ec6164>\u001b[0m in \u001b[0;36m<module>\u001b[0;34m()\u001b[0m\n\u001b[1;32m      5\u001b[0m           \u001b[0mepochs\u001b[0m\u001b[1;33m=\u001b[0m\u001b[0mnr_epochs\u001b[0m\u001b[1;33m,\u001b[0m\u001b[1;33m\u001b[0m\u001b[0m\n\u001b[1;32m      6\u001b[0m           \u001b[0mverbose\u001b[0m\u001b[1;33m=\u001b[0m\u001b[1;36m0\u001b[0m\u001b[1;33m,\u001b[0m\u001b[1;33m\u001b[0m\u001b[0m\n\u001b[0;32m----> 7\u001b[0;31m           validation_data=(X_test_new, y_test_new))\n\u001b[0m",
      "\u001b[0;32mc:\\program files\\miniconda3\\lib\\site-packages\\keras\\models.py\u001b[0m in \u001b[0;36mfit\u001b[0;34m(self, x, y, batch_size, epochs, verbose, callbacks, validation_split, validation_data, shuffle, class_weight, sample_weight, initial_epoch, **kwargs)\u001b[0m\n\u001b[1;32m    843\u001b[0m                               \u001b[0mclass_weight\u001b[0m\u001b[1;33m=\u001b[0m\u001b[0mclass_weight\u001b[0m\u001b[1;33m,\u001b[0m\u001b[1;33m\u001b[0m\u001b[0m\n\u001b[1;32m    844\u001b[0m                               \u001b[0msample_weight\u001b[0m\u001b[1;33m=\u001b[0m\u001b[0msample_weight\u001b[0m\u001b[1;33m,\u001b[0m\u001b[1;33m\u001b[0m\u001b[0m\n\u001b[0;32m--> 845\u001b[0;31m                               initial_epoch=initial_epoch)\n\u001b[0m\u001b[1;32m    846\u001b[0m \u001b[1;33m\u001b[0m\u001b[0m\n\u001b[1;32m    847\u001b[0m     def evaluate(self, x, y, batch_size=32, verbose=1,\n",
      "\u001b[0;32mc:\\program files\\miniconda3\\lib\\site-packages\\keras\\engine\\training.py\u001b[0m in \u001b[0;36mfit\u001b[0;34m(self, x, y, batch_size, epochs, verbose, callbacks, validation_split, validation_data, shuffle, class_weight, sample_weight, initial_epoch, **kwargs)\u001b[0m\n\u001b[1;32m   1483\u001b[0m                               \u001b[0mval_f\u001b[0m\u001b[1;33m=\u001b[0m\u001b[0mval_f\u001b[0m\u001b[1;33m,\u001b[0m \u001b[0mval_ins\u001b[0m\u001b[1;33m=\u001b[0m\u001b[0mval_ins\u001b[0m\u001b[1;33m,\u001b[0m \u001b[0mshuffle\u001b[0m\u001b[1;33m=\u001b[0m\u001b[0mshuffle\u001b[0m\u001b[1;33m,\u001b[0m\u001b[1;33m\u001b[0m\u001b[0m\n\u001b[1;32m   1484\u001b[0m                               \u001b[0mcallback_metrics\u001b[0m\u001b[1;33m=\u001b[0m\u001b[0mcallback_metrics\u001b[0m\u001b[1;33m,\u001b[0m\u001b[1;33m\u001b[0m\u001b[0m\n\u001b[0;32m-> 1485\u001b[0;31m                               initial_epoch=initial_epoch)\n\u001b[0m\u001b[1;32m   1486\u001b[0m \u001b[1;33m\u001b[0m\u001b[0m\n\u001b[1;32m   1487\u001b[0m     \u001b[1;32mdef\u001b[0m \u001b[0mevaluate\u001b[0m\u001b[1;33m(\u001b[0m\u001b[0mself\u001b[0m\u001b[1;33m,\u001b[0m \u001b[0mx\u001b[0m\u001b[1;33m,\u001b[0m \u001b[0my\u001b[0m\u001b[1;33m,\u001b[0m \u001b[0mbatch_size\u001b[0m\u001b[1;33m=\u001b[0m\u001b[1;36m32\u001b[0m\u001b[1;33m,\u001b[0m \u001b[0mverbose\u001b[0m\u001b[1;33m=\u001b[0m\u001b[1;36m1\u001b[0m\u001b[1;33m,\u001b[0m \u001b[0msample_weight\u001b[0m\u001b[1;33m=\u001b[0m\u001b[1;32mNone\u001b[0m\u001b[1;33m)\u001b[0m\u001b[1;33m:\u001b[0m\u001b[1;33m\u001b[0m\u001b[0m\n",
      "\u001b[0;32mc:\\program files\\miniconda3\\lib\\site-packages\\keras\\engine\\training.py\u001b[0m in \u001b[0;36m_fit_loop\u001b[0;34m(self, f, ins, out_labels, batch_size, epochs, verbose, callbacks, val_f, val_ins, shuffle, callback_metrics, initial_epoch)\u001b[0m\n\u001b[1;32m   1138\u001b[0m                 \u001b[0mbatch_logs\u001b[0m\u001b[1;33m[\u001b[0m\u001b[1;34m'size'\u001b[0m\u001b[1;33m]\u001b[0m \u001b[1;33m=\u001b[0m \u001b[0mlen\u001b[0m\u001b[1;33m(\u001b[0m\u001b[0mbatch_ids\u001b[0m\u001b[1;33m)\u001b[0m\u001b[1;33m\u001b[0m\u001b[0m\n\u001b[1;32m   1139\u001b[0m                 \u001b[0mcallbacks\u001b[0m\u001b[1;33m.\u001b[0m\u001b[0mon_batch_begin\u001b[0m\u001b[1;33m(\u001b[0m\u001b[0mbatch_index\u001b[0m\u001b[1;33m,\u001b[0m \u001b[0mbatch_logs\u001b[0m\u001b[1;33m)\u001b[0m\u001b[1;33m\u001b[0m\u001b[0m\n\u001b[0;32m-> 1140\u001b[0;31m                 \u001b[0mouts\u001b[0m \u001b[1;33m=\u001b[0m \u001b[0mf\u001b[0m\u001b[1;33m(\u001b[0m\u001b[0mins_batch\u001b[0m\u001b[1;33m)\u001b[0m\u001b[1;33m\u001b[0m\u001b[0m\n\u001b[0m\u001b[1;32m   1141\u001b[0m                 \u001b[1;32mif\u001b[0m \u001b[1;32mnot\u001b[0m \u001b[0misinstance\u001b[0m\u001b[1;33m(\u001b[0m\u001b[0mouts\u001b[0m\u001b[1;33m,\u001b[0m \u001b[0mlist\u001b[0m\u001b[1;33m)\u001b[0m\u001b[1;33m:\u001b[0m\u001b[1;33m\u001b[0m\u001b[0m\n\u001b[1;32m   1142\u001b[0m                     \u001b[0mouts\u001b[0m \u001b[1;33m=\u001b[0m \u001b[1;33m[\u001b[0m\u001b[0mouts\u001b[0m\u001b[1;33m]\u001b[0m\u001b[1;33m\u001b[0m\u001b[0m\n",
      "\u001b[0;32mc:\\program files\\miniconda3\\lib\\site-packages\\keras\\backend\\tensorflow_backend.py\u001b[0m in \u001b[0;36m__call__\u001b[0;34m(self, inputs)\u001b[0m\n\u001b[1;32m   2071\u001b[0m         \u001b[0msession\u001b[0m \u001b[1;33m=\u001b[0m \u001b[0mget_session\u001b[0m\u001b[1;33m(\u001b[0m\u001b[1;33m)\u001b[0m\u001b[1;33m\u001b[0m\u001b[0m\n\u001b[1;32m   2072\u001b[0m         updated = session.run(self.outputs + [self.updates_op],\n\u001b[0;32m-> 2073\u001b[0;31m                               feed_dict=feed_dict)\n\u001b[0m\u001b[1;32m   2074\u001b[0m         \u001b[1;32mreturn\u001b[0m \u001b[0mupdated\u001b[0m\u001b[1;33m[\u001b[0m\u001b[1;33m:\u001b[0m\u001b[0mlen\u001b[0m\u001b[1;33m(\u001b[0m\u001b[0mself\u001b[0m\u001b[1;33m.\u001b[0m\u001b[0moutputs\u001b[0m\u001b[1;33m)\u001b[0m\u001b[1;33m]\u001b[0m\u001b[1;33m\u001b[0m\u001b[0m\n\u001b[1;32m   2075\u001b[0m \u001b[1;33m\u001b[0m\u001b[0m\n",
      "\u001b[0;32mc:\\program files\\miniconda3\\lib\\site-packages\\tensorflow\\python\\client\\session.py\u001b[0m in \u001b[0;36mrun\u001b[0;34m(self, fetches, feed_dict, options, run_metadata)\u001b[0m\n\u001b[1;32m    765\u001b[0m     \u001b[1;32mtry\u001b[0m\u001b[1;33m:\u001b[0m\u001b[1;33m\u001b[0m\u001b[0m\n\u001b[1;32m    766\u001b[0m       result = self._run(None, fetches, feed_dict, options_ptr,\n\u001b[0;32m--> 767\u001b[0;31m                          run_metadata_ptr)\n\u001b[0m\u001b[1;32m    768\u001b[0m       \u001b[1;32mif\u001b[0m \u001b[0mrun_metadata\u001b[0m\u001b[1;33m:\u001b[0m\u001b[1;33m\u001b[0m\u001b[0m\n\u001b[1;32m    769\u001b[0m         \u001b[0mproto_data\u001b[0m \u001b[1;33m=\u001b[0m \u001b[0mtf_session\u001b[0m\u001b[1;33m.\u001b[0m\u001b[0mTF_GetBuffer\u001b[0m\u001b[1;33m(\u001b[0m\u001b[0mrun_metadata_ptr\u001b[0m\u001b[1;33m)\u001b[0m\u001b[1;33m\u001b[0m\u001b[0m\n",
      "\u001b[0;32mc:\\program files\\miniconda3\\lib\\site-packages\\tensorflow\\python\\client\\session.py\u001b[0m in \u001b[0;36m_run\u001b[0;34m(self, handle, fetches, feed_dict, options, run_metadata)\u001b[0m\n\u001b[1;32m    963\u001b[0m     \u001b[1;32mif\u001b[0m \u001b[0mfinal_fetches\u001b[0m \u001b[1;32mor\u001b[0m \u001b[0mfinal_targets\u001b[0m\u001b[1;33m:\u001b[0m\u001b[1;33m\u001b[0m\u001b[0m\n\u001b[1;32m    964\u001b[0m       results = self._do_run(handle, final_targets, final_fetches,\n\u001b[0;32m--> 965\u001b[0;31m                              feed_dict_string, options, run_metadata)\n\u001b[0m\u001b[1;32m    966\u001b[0m     \u001b[1;32melse\u001b[0m\u001b[1;33m:\u001b[0m\u001b[1;33m\u001b[0m\u001b[0m\n\u001b[1;32m    967\u001b[0m       \u001b[0mresults\u001b[0m \u001b[1;33m=\u001b[0m \u001b[1;33m[\u001b[0m\u001b[1;33m]\u001b[0m\u001b[1;33m\u001b[0m\u001b[0m\n",
      "\u001b[0;32mc:\\program files\\miniconda3\\lib\\site-packages\\tensorflow\\python\\client\\session.py\u001b[0m in \u001b[0;36m_do_run\u001b[0;34m(self, handle, target_list, fetch_list, feed_dict, options, run_metadata)\u001b[0m\n\u001b[1;32m   1013\u001b[0m     \u001b[1;32mif\u001b[0m \u001b[0mhandle\u001b[0m \u001b[1;32mis\u001b[0m \u001b[1;32mNone\u001b[0m\u001b[1;33m:\u001b[0m\u001b[1;33m\u001b[0m\u001b[0m\n\u001b[1;32m   1014\u001b[0m       return self._do_call(_run_fn, self._session, feed_dict, fetch_list,\n\u001b[0;32m-> 1015\u001b[0;31m                            target_list, options, run_metadata)\n\u001b[0m\u001b[1;32m   1016\u001b[0m     \u001b[1;32melse\u001b[0m\u001b[1;33m:\u001b[0m\u001b[1;33m\u001b[0m\u001b[0m\n\u001b[1;32m   1017\u001b[0m       return self._do_call(_prun_fn, self._session, handle, feed_dict,\n",
      "\u001b[0;32mc:\\program files\\miniconda3\\lib\\site-packages\\tensorflow\\python\\client\\session.py\u001b[0m in \u001b[0;36m_do_call\u001b[0;34m(self, fn, *args)\u001b[0m\n\u001b[1;32m   1020\u001b[0m   \u001b[1;32mdef\u001b[0m \u001b[0m_do_call\u001b[0m\u001b[1;33m(\u001b[0m\u001b[0mself\u001b[0m\u001b[1;33m,\u001b[0m \u001b[0mfn\u001b[0m\u001b[1;33m,\u001b[0m \u001b[1;33m*\u001b[0m\u001b[0margs\u001b[0m\u001b[1;33m)\u001b[0m\u001b[1;33m:\u001b[0m\u001b[1;33m\u001b[0m\u001b[0m\n\u001b[1;32m   1021\u001b[0m     \u001b[1;32mtry\u001b[0m\u001b[1;33m:\u001b[0m\u001b[1;33m\u001b[0m\u001b[0m\n\u001b[0;32m-> 1022\u001b[0;31m       \u001b[1;32mreturn\u001b[0m \u001b[0mfn\u001b[0m\u001b[1;33m(\u001b[0m\u001b[1;33m*\u001b[0m\u001b[0margs\u001b[0m\u001b[1;33m)\u001b[0m\u001b[1;33m\u001b[0m\u001b[0m\n\u001b[0m\u001b[1;32m   1023\u001b[0m     \u001b[1;32mexcept\u001b[0m \u001b[0merrors\u001b[0m\u001b[1;33m.\u001b[0m\u001b[0mOpError\u001b[0m \u001b[1;32mas\u001b[0m \u001b[0me\u001b[0m\u001b[1;33m:\u001b[0m\u001b[1;33m\u001b[0m\u001b[0m\n\u001b[1;32m   1024\u001b[0m       \u001b[0mmessage\u001b[0m \u001b[1;33m=\u001b[0m \u001b[0mcompat\u001b[0m\u001b[1;33m.\u001b[0m\u001b[0mas_text\u001b[0m\u001b[1;33m(\u001b[0m\u001b[0me\u001b[0m\u001b[1;33m.\u001b[0m\u001b[0mmessage\u001b[0m\u001b[1;33m)\u001b[0m\u001b[1;33m\u001b[0m\u001b[0m\n",
      "\u001b[0;32mc:\\program files\\miniconda3\\lib\\site-packages\\tensorflow\\python\\client\\session.py\u001b[0m in \u001b[0;36m_run_fn\u001b[0;34m(session, feed_dict, fetch_list, target_list, options, run_metadata)\u001b[0m\n\u001b[1;32m   1002\u001b[0m         return tf_session.TF_Run(session, options,\n\u001b[1;32m   1003\u001b[0m                                  \u001b[0mfeed_dict\u001b[0m\u001b[1;33m,\u001b[0m \u001b[0mfetch_list\u001b[0m\u001b[1;33m,\u001b[0m \u001b[0mtarget_list\u001b[0m\u001b[1;33m,\u001b[0m\u001b[1;33m\u001b[0m\u001b[0m\n\u001b[0;32m-> 1004\u001b[0;31m                                  status, run_metadata)\n\u001b[0m\u001b[1;32m   1005\u001b[0m \u001b[1;33m\u001b[0m\u001b[0m\n\u001b[1;32m   1006\u001b[0m     \u001b[1;32mdef\u001b[0m \u001b[0m_prun_fn\u001b[0m\u001b[1;33m(\u001b[0m\u001b[0msession\u001b[0m\u001b[1;33m,\u001b[0m \u001b[0mhandle\u001b[0m\u001b[1;33m,\u001b[0m \u001b[0mfeed_dict\u001b[0m\u001b[1;33m,\u001b[0m \u001b[0mfetch_list\u001b[0m\u001b[1;33m)\u001b[0m\u001b[1;33m:\u001b[0m\u001b[1;33m\u001b[0m\u001b[0m\n",
      "\u001b[0;31mKeyboardInterrupt\u001b[0m: "
     ]
    }
   ],
   "source": [
    "# Train the model\n",
    "nr_epochs = 10\n",
    "model.fit(X_train_new, y_train_new,\n",
    "          batch_size=BATCH_SIZE,\n",
    "          epochs=nr_epochs,\n",
    "          verbose=0,\n",
    "          validation_data=(X_test_new, y_test_new))"
   ]
  },
  {
   "cell_type": "code",
   "execution_count": null,
   "metadata": {
    "collapsed": false,
    "deletable": true,
    "editable": true
   },
   "outputs": [],
   "source": [
    "# Evaluation\n",
    "score = model.evaluate(X_test_new, y_test_new, batch_size=BATCH_SIZE, verbose=0)\n",
    "print('Test loss:', score[0])\n",
    "print('Test accuracy:', score[1])"
   ]
  },
  {
   "cell_type": "markdown",
   "metadata": {
    "collapsed": true,
    "deletable": true,
    "editable": true
   },
   "source": [
    "#### How we generate training data?\n",
    "We first load in the original training data set. Each tuple in the MNIST data corresponds to an image of single digit. We need to add two numbers from images. This means we need a set of images corresponding to the digits of each number we are adding. So we start by building a training set in a loop. In each iteration, we first generate 2 sets of random indices. The indices corresponds to random tuples in the original MNIST data. Therefore, the set of indices will produce a set of images for each digit of one number. We assume numbers can have variable length but have a maximum size of 10 digits. If a number has fewer digits, it is padded with null images. The output training set has the dimension: (nr_samples, 2, 10, 28, 28, 1) where nr_samples is the number of samples, 2 for a sequence of two input numbers, 10 for the number of digits per number, (28, 28, 1) for the dimensions of the image itself.\n",
    "\n",
    "#### What does the output look like?\n",
    "The test data contains for each tuple, the string of the sum of the corresponding two numbers padded with spaces up to a maximum size of 11 characters because the sum of two numbers can have maximum 11 digits. The string is also encoded using the character table. The dimensions of the test data is (nr_samples, 10, 11, 11) where the first two is self-explanatory. (11, 11) because we have encoded the string for 10 digits and a space character.\n",
    "\n",
    "#### How the model works?\n",
    "We have built one model that is trained end-to-end. First it reshapes the input such that each image is passed to the convolutional layers individually. Then two convolutional layers are used in a time ditributed manner to extract their features. The image features are max pooled to reduce size. We used the ReLu activation functions for both. The reasoning for this choice is given in our answer to question 2.\n",
    "\n",
    "For the RNN, we have to again reshape the input into the following format (nr_samples, nr_timesteps, input_dims). So we applied reshape and flattened the input. Two RNN layers are applied. The first RNN layer converts each sequence into a set of features of size HIDDEN_SIZE. Then a repeat vector is applied to repeat the input 11 times to get it closer to the output shape. The repeat vector is purely used to only change dimensions and does not affect the result in any way. The second RNN layer also learns new features and returns a sequence. This sequence is passed through a fully connected layer to materialize a single character output per time step of the sequence.\n",
    "\n",
    "We used the Adam optimizer and again the reasoning is given in our asnwer to question 2."
   ]
  }
 ],
 "metadata": {
  "anaconda-cloud": {},
  "kernelspec": {
   "display_name": "Python 3",
   "language": "python",
   "name": "python3"
  },
  "language_info": {
   "codemirror_mode": {
    "name": "ipython",
    "version": 3
   },
   "file_extension": ".py",
   "mimetype": "text/x-python",
   "name": "python",
   "nbconvert_exporter": "python",
   "pygments_lexer": "ipython3",
   "version": "3.5.2"
  }
 },
 "nbformat": 4,
 "nbformat_minor": 1
}
