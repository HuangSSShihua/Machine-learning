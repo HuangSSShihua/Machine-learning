{
 "cells": [
  {
   "cell_type": "markdown",
   "metadata": {
    "deletable": true,
    "editable": true
   },
   "source": [
    "# Foundations of Data Mining: Assignment 1\n",
    "Suraj Iyer (0866094)<br>\n",
    "Simin Chen (0842556)"
   ]
  },
  {
   "cell_type": "code",
   "execution_count": 18,
   "metadata": {
    "collapsed": true,
    "deletable": true,
    "editable": true
   },
   "outputs": [],
   "source": [
    "%matplotlib inline\n",
    "from preamble import *\n",
    "plt.rcParams['savefig.dpi'] = 100\n",
    "InteractiveShell.ast_node_interactivity = \"all\""
   ]
  },
  {
   "cell_type": "markdown",
   "metadata": {
    "deletable": true,
    "editable": true
   },
   "source": [
    "## Handwritten digit recognition (5 points, 1+2+2)\n",
    "The [MNIST dataset](https://www.openml.org/d/554) contains 70,000 images of handwritten digits (0-9) represented by 28 by 28 pixel values. We can easily download it from OpenML and visualize one of the examples:"
   ]
  },
  {
   "cell_type": "code",
   "execution_count": 19,
   "metadata": {
    "collapsed": true,
    "deletable": true,
    "editable": true
   },
   "outputs": [],
   "source": [
    "# This is a temporary read-only OpenML key. Replace with your own key later. \n",
    "oml.config.apikey = '11e82c8d91c5abece86f424369c71590'"
   ]
  },
  {
   "cell_type": "code",
   "execution_count": 34,
   "metadata": {
    "collapsed": false,
    "deletable": true,
    "editable": true
   },
   "outputs": [
    {
     "name": "stdout",
     "output_type": "stream",
     "text": [
      "(70000, 784) (70000,)\n(2000, 784) (2000,)\n"
     ]
    },
    {
     "data": {
      "text/plain": [
       "<matplotlib.image.AxesImage at 0x2000067ff28>"
      ]
     },
     "execution_count": 34,
     "metadata": {},
     "output_type": "execute_result"
    },
    {
     "name": "stdout",
     "output_type": "stream",
     "text": [
      "Class label: 5\n"
     ]
    },
    {
     "data": {
      "image/png": "[encoded data removed]",
      "text/plain": [
       "<matplotlib.figure.Figure at 0x200000064a8>"
      ]
     },
     "metadata": {},
     "output_type": "display_data"
    }
   ],
   "source": [
    "mnist_data = oml.datasets.get_dataset(554)  # Download MNIST data\n",
    "X, y = mnist_data.get_data(target=mnist_data.default_target_attribute)  # Get the predictors X and the labels y\n",
    "# REMOVE THIS LATER\n",
    "X, y = X[:2000], y[:2000]\n",
    "plt.imshow(X[0].reshape(28, 28), cmap=plt.cm.gray_r)  # Take the first example, reshape to a 28x28 image and plot\n",
    "print(\"Class label:\", y[0])  # Print the correct class label"
   ]
  },
  {
   "cell_type": "markdown",
   "metadata": {
    "deletable": true,
    "editable": true
   },
   "source": [
    "- Evaluate a k-Nearest Neighbor classifier with its default settings.\n",
    "    - Use the first 60,000 examples as the training set and the last 10,000 as the test set\n",
    "    - What is the predictive accuracy?\n",
    "    - Find a few misclassifications, and plot them together with the true labels (as above). Are these images really hard to classify?\n",
    "- Optimize the value for the number of neighbors $k$ (keep $k$ < 50) on a stratified subsample (e.g. 10%) of the data\n",
    "    - Use 10-fold crossvalidation and plot $k$ against the misclassification rate. Which value of $k$ should you pick?\n",
    "    - Do the same but with 100 bootstrapping repeats. Are the results different? Explain.\n",
    "- Compare kNN against the linear classification models that we have covered in the course (logistic regression and linear SVMs).\n",
    "    - First use the default hyperparameter settings.\n",
    "    - Next, optimize for the degree of regularization ($C$) and choice of penalty (L1/L2). Again, plot the accuracy while increasing the degree of regularization for different penalties. Interpret the results. \n",
    "    - Report is the optimal performance. Can you get better results than kNN?\n",
    "    \n",
    "Report all results clearly and interpret the results.  \n",
    "Note: while prototyping/bugfixing, you can speed up experiments by taking a smaller sample of the data, but report your results as indicated above."
   ]
  },
  {
   "cell_type": "heading",
   "metadata": {},
   "level": 1,
   "source": [
    "Evaluate a k-Nearest Neighbor classifier with its default settings"
   ]
  },
  {
   "cell_type": "code",
   "execution_count": 31,
   "metadata": {
    "collapsed": false,
    "deletable": true,
    "editable": true
   },
   "outputs": [
    {
     "name": "stdout",
     "output_type": "stream",
     "text": [
      "X_train: (10, 784) | y_train: (10,) | X_test: (1990, 784) | y_test: (1990,)\nKNN score: 0.220101\n"
     ]
    },
    {
     "data": {
      "text/plain": [
       "<matplotlib.image.AxesImage at 0x200005f8ac8>"
      ]
     },
     "execution_count": 31,
     "metadata": {},
     "output_type": "execute_result"
    },
    {
     "data": {
      "image/png": "[encoded data removed]",
      "text/plain": [
       "<matplotlib.figure.Figure at 0x20000235128>"
      ]
     },
     "metadata": {},
     "output_type": "display_data"
    },
    {
     "name": "stdout",
     "output_type": "stream",
     "text": [
      "Predicted class label: 1 True class label: 3\n"
     ]
    },
    {
     "data": {
      "text/plain": [
       "<matplotlib.image.AxesImage at 0x2000e5fb358>"
      ]
     },
     "execution_count": 31,
     "metadata": {},
     "output_type": "execute_result"
    },
    {
     "data": {
      "image/png": "[encoded data removed]",
      "text/plain": [
       "<matplotlib.figure.Figure at 0x20000285be0>"
      ]
     },
     "metadata": {},
     "output_type": "display_data"
    },
    {
     "name": "stdout",
     "output_type": "stream",
     "text": [
      "Predicted class label: 1 True class label: 5\n"
     ]
    },
    {
     "data": {
      "text/plain": [
       "<matplotlib.image.AxesImage at 0x2000e610eb8>"
      ]
     },
     "execution_count": 31,
     "metadata": {},
     "output_type": "execute_result"
    },
    {
     "data": {
      "image/png": "[encoded data removed]",
      "text/plain": [
       "<matplotlib.figure.Figure at 0x2007ec086a0>"
      ]
     },
     "metadata": {},
     "output_type": "display_data"
    },
    {
     "name": "stdout",
     "output_type": "stream",
     "text": [
      "Predicted class label: 1 True class label: 3\n"
     ]
    },
    {
     "data": {
      "text/plain": [
       "<matplotlib.image.AxesImage at 0x200001b9a20>"
      ]
     },
     "execution_count": 31,
     "metadata": {},
     "output_type": "execute_result"
    },
    {
     "data": {
      "image/png": "[encoded data removed]",
      "text/plain": [
       "<matplotlib.figure.Figure at 0x2000000ff60>"
      ]
     },
     "metadata": {},
     "output_type": "display_data"
    },
    {
     "name": "stdout",
     "output_type": "stream",
     "text": [
      "Predicted class label: 1 True class label: 6\n"
     ]
    },
    {
     "data": {
      "text/plain": [
       "<matplotlib.image.AxesImage at 0x200006280f0>"
      ]
     },
     "execution_count": 31,
     "metadata": {},
     "output_type": "execute_result"
    },
    {
     "data": {
      "image/png": "[encoded data removed]",
      "text/plain": [
       "<matplotlib.figure.Figure at 0x2000012c9b0>"
      ]
     },
     "metadata": {},
     "output_type": "display_data"
    },
    {
     "name": "stdout",
     "output_type": "stream",
     "text": [
      "Predicted class label: 1 True class label: 7\n"
     ]
    }
   ],
   "source": [
    "from sklearn import neighbors\n",
    "\n",
    "X_train, X_test = np.split(X, [100])\n",
    "y_train, y_test = np.split(y, [100])\n",
    "print('X_train:', X_train.shape, '| y_train:', y_train.shape, '| X_test:', X_test.shape, '| y_test:', y_test.shape)\n",
    "\n",
    "# Predictive accuracy\n",
    "knn = neighbors.KNeighborsClassifier()\n",
    "print('KNN score: %f' % knn.fit(X_train, y_train).score(X_test, y_test))\n",
    "\n",
    "# Finding a few misclassifications\n",
    "X_misc = [(X_test[i], y, y_test[i]) for i, y in enumerate(knn.predict(X_test)) if y != y_test[i]]\n",
    "for x, y_pred, y in X_misc[:5]:\n",
    "    plt.imshow(x.reshape(28, 28), cmap=plt.cm.gray_r)\n",
    "    plt.show()\n",
    "    print(\"Predicted class label:\", y_pred, \"True class label:\", y)"
   ]
  },
  {
   "cell_type": "heading",
   "metadata": {},
   "level": 1,
   "source": [
    "Optimize the value for the number of neighbors $k$ (keep $k$ < 50) on a stratified subsample (e.g. 10%) of the data"
   ]
  },
  {
   "cell_type": "code",
   "execution_count": 42,
   "metadata": {},
   "outputs": [
    {
     "data": {
      "text/plain": [
       "[<matplotlib.lines.Line2D at 0x2000054c5f8>]"
      ]
     },
     "execution_count": 42,
     "metadata": {},
     "output_type": "execute_result"
    },
    {
     "data": {
      "text/plain": [
       "<matplotlib.text.Text at 0x200002497b8>"
      ]
     },
     "execution_count": 42,
     "metadata": {},
     "output_type": "execute_result"
    },
    {
     "data": {
      "text/plain": [
       "<matplotlib.text.Text at 0x2001a650198>"
      ]
     },
     "execution_count": 42,
     "metadata": {},
     "output_type": "execute_result"
    },
    {
     "data": {
      "image/png": "[encoded data removed]",
      "text/plain": [
       "<matplotlib.figure.Figure at 0x20000732e10>"
      ]
     },
     "metadata": {},
     "output_type": "display_data"
    }
   ],
   "source": [
    "from sklearn import neighbors\n",
    "from sklearn.model_selection import train_test_split, cross_val_score\n",
    "\n",
    "# Build a list of the training and test scores for increasing k\n",
    "misc_rate = []\n",
    "k = range(1, 50)\n",
    "\n",
    "# Get 10% of the data\n",
    "X_train, _, y_train, _ = train_test_split(X, y, stratify=y, train_size=.1, random_state=66)\n",
    "\n",
    "for n_neighbors in k:\n",
    "    # build the model\n",
    "    clf = neighbors.KNeighborsClassifier(n_neighbors=n_neighbors)\n",
    "    scores = cross_val_score(clf, X_train, y_train, cv=10)\n",
    "    misc_rate.append(1.-np.mean(scores))\n",
    "\n",
    "# plot the data\n",
    "plt.plot(k, misc_rate, label=\"misc rate\")\n",
    "plt.ylabel(\"misc_rate\")\n",
    "plt.xlabel(\"n_neighbors\")\n",
    "_ = plt.legend()"
   ]
  },
  {
   "cell_type": "heading",
   "metadata": {},
   "level": 1,
   "source": [
    "Doing the same as above but with 100 bootstrapping repeats."
   ]
  },
  {
   "cell_type": "code",
   "execution_count": 41,
   "metadata": {},
   "outputs": [
    {
     "data": {
      "text/plain": [
       "[<matplotlib.lines.Line2D at 0x200006d7240>]"
      ]
     },
     "execution_count": 41,
     "metadata": {},
     "output_type": "execute_result"
    },
    {
     "data": {
      "text/plain": [
       "<matplotlib.text.Text at 0x200006bbe48>"
      ]
     },
     "execution_count": 41,
     "metadata": {},
     "output_type": "execute_result"
    },
    {
     "data": {
      "text/plain": [
       "<matplotlib.text.Text at 0x200006b77b8>"
      ]
     },
     "execution_count": 41,
     "metadata": {},
     "output_type": "execute_result"
    },
    {
     "data": {
      "image/png": "[encoded data removed]",
      "text/plain": [
       "<matplotlib.figure.Figure at 0x20000280208>"
      ]
     },
     "metadata": {},
     "output_type": "display_data"
    }
   ],
   "source": [
    "from sklearn import neighbors\n",
    "from sklearn.model_selection import train_test_split, StratifiedShuffleSplit\n",
    "sss = StratifiedShuffleSplit(n_splits=100, train_size=0.66, test_size=0.34, random_state=66)\n",
    "\n",
    "# Build a list of the training and test scores for increasing k\n",
    "misc_rate = []\n",
    "k = range(1, 50)\n",
    "\n",
    "# Get 10% of the data\n",
    "X_train, _, y_train, _ = train_test_split(X, y, stratify=y, train_size=.1, random_state=66)\n",
    "\n",
    "for n_neighbors in k:\n",
    "    # build the model\n",
    "    clf = neighbors.KNeighborsClassifier(n_neighbors=n_neighbors)\n",
    "    scores = cross_val_score(clf, X_train, y_train, cv=sss)\n",
    "    misc_rate.append(1-np.mean(scores))\n",
    "\n",
    "# plot the data\n",
    "plt.plot(k, misc_rate, label=\"misc rate\")\n",
    "plt.ylabel(\"misc_rate\")\n",
    "plt.xlabel(\"n_neighbors\")\n",
    "_ = plt.legend()"
   ]
  },
  {
   "cell_type": "heading",
   "metadata": {},
   "level": 1,
   "source": [
    "Compare kNN against the linear classification models that we have covered in the course (logistic regression and linear SVMs)."
   ]
  },
  {
   "cell_type": "code",
   "execution_count": null,
   "metadata": {},
   "outputs": [],
   "source": [
    "from sklearn import linear_model\n",
    "\n",
    "X_train, X_test = np.split(X, [100])\n",
    "y_train, y_test = np.split(y, [100])\n",
    "print('X_train:', X_train.shape, 'y_train:', y_train.shape, 'X_test:', X_test.shape, 'y_test:', y_test.shape)\n",
    "\n",
    "logistic = linear_model.LogisticRegression()\n",
    "print('LogisticRegression score: %f' % logistic.fit(X_train, y_train).score(X_test, y_test))"
   ]
  },
  {
   "cell_type": "heading",
   "metadata": {},
   "level": 1,
   "source": [
    "Optimizing for the degree of regularization ($C$) and choice of penalty (L1/L2)."
   ]
  },
  {
   "cell_type": "code",
   "execution_count": null,
   "metadata": {},
   "outputs": [],
   "source": [
    ""
   ]
  },
  {
   "cell_type": "markdown",
   "metadata": {
    "deletable": true,
    "editable": true
   },
   "source": [
    "## Model selection (4 points (2+2))\n",
    "Study how RandomForest hyperparameters interact on the Ionosphere dataset (OpenML ID 59).\n",
    "\n",
    "- Optimize a RandomForest, varying both $n\\_estimators$ and $max\\_features$ at the same time. Use a nested cross-validation and a grid search (or random search) over the possible values, and measure the AUC. Explore how fine-grained this grid/random search can be, given your computational resources. What is the optimal AUC performance you find?\n",
    "- Again, vary both hyperparameters, but this time use a grid search and visualize the results as a plot (heatmap) $n\\_estimators \\times max\\_features \\rightarrow AUC$ with AUC visualized as the color of the data point. Try to make the grid as fine as possible. Interpret the results. Can you explain your observations? What did you learn about tuning RandomForests?\n",
    "\n",
    "Hint: Running this experiment can take a while, so start early and use a feasible grid/random search. Start with a coarse grid or few random search iterations.\n",
    "Hint: Use a log scale (1,2,4,8,16,...) for $n\\_estimators$. Vary $max\\_features$ linearly between 1 and the total number of features. Note that, if you give $max\\_features$ a float value, it will use it as [the percentage of the total number of features](http://scikit-learn.org/stable/modules/generated/sklearn.ensemble.RandomForestClassifier.html).\n"
   ]
  },
  {
   "cell_type": "code",
   "execution_count": null,
   "metadata": {
    "collapsed": true,
    "deletable": true,
    "editable": true
   },
   "outputs": [],
   "source": [
    "ionosphere = oml.datasets.get_dataset(59)  # Download Ionosphere data\n",
    "X, y = ionosphere.get_data(target=ionosphere.default_target_attribute)  # Get the predictors X and the labels y"
   ]
  },
  {
   "cell_type": "markdown",
   "metadata": {
    "deletable": true,
    "editable": true
   },
   "source": [
    "## Decision tree heuristics (1 point)\n",
    "Consider the toy training set created below. It predicts whether your date agrees to go out with you depending on the weather.\n",
    "\n",
    "Learn a decision tree:\n",
    "\n",
    "- Implement functions to calculate entropy and information gain\n",
    "- What is the class entropy for the entire dataset? What is the information gain when you split the data using the *Water* feature?\n",
    "- Implement a basic decision tree:\n",
    "    - Select a feature to split on according to its information gain. If multiple features are equally good, select the leftmost one.\n",
    "    - Split the data and repeat until the tree is complete.\n",
    "    - Print out the results (nodes and splits).\n",
    "- Now train a scikit-learn decision tree on the same data. Do you get the same result? Explain."
   ]
  },
  {
   "cell_type": "code",
   "execution_count": null,
   "metadata": {
    "collapsed": false,
    "deletable": true,
    "editable": true
   },
   "outputs": [],
   "source": [
    "df = pd.DataFrame({\"Sky\": ['sunny', 'sunny', 'rainy', 'sunny', 'sunny'],\n",
    "                   \"AirTemp\": ['warm', 'warm', 'warm', 'cold', 'warm'],\n",
    "                   \"Humidity\": ['normal', 'high', 'high', 'high', 'normal'],\n",
    "                   \"Wind\": ['strong', 'strong', 'strong', 'strong', 'weak'],\n",
    "                   \"Water\": ['warm', 'warm', 'cool', 'warm', 'warm'],\n",
    "                   \"Forecast\": ['same', 'same', 'change', 'change', 'same'],\n",
    "                   \"Date?\": ['yes', 'yes', 'no', 'yes', 'no']\n",
    "                   })\n",
    "df = df[['Sky', 'AirTemp', 'Humidity', 'Wind', 'Water', 'Forecast', 'Date?']]  # Fix column ordering\n",
    "df  # print"
   ]
  },
  {
   "cell_type": "code",
   "execution_count": null,
   "metadata": {
    "collapsed": true,
    "deletable": true,
    "editable": true
   },
   "outputs": [],
   "source": [
    "# Complete these functions first\n",
    "def entropy(pos, neg):\n",
    "    return 0\n",
    "\n",
    "def info_gain(pos1, neg1, pos2, neg2):\n",
    "    return 0"
   ]
  },
  {
   "cell_type": "markdown",
   "metadata": {
    "deletable": true,
    "editable": true
   },
   "source": [
    "## Random Forests (4 points (1+1+2))\n",
    "Study the effect of the number of trees in a RandomForest on the EEG-eye-state dataset (http://www.openml.org/d/1471). This dataset measures brain activity using 15 sensors, and you need to predict whether the person's eyes are open or closed. \n",
    "\n",
    "* Train a RandomForest classifier on this dataset with an increasing number of trees (on a log scale as above). Plot the Out-Of-Bag error against the number of trees.\n",
    "    - The Out-Of-Bag error is the test error obtained when using bootstrapping, and using the non-drawn data points as the test set. This is what a RandomForest does internally, so you can retrieve it from the classifier. The code below hints on how to do this.\n",
    "* Construct the same plot, but now use 10-fold Cross-validation and error rate instead of the OOB error. Compare the two. What do you learn from this?\n",
    "* Compare the performance of the RandomForest ensemble with that of a single full decision tree. Compute the AUC as well as the bias and variance. Does the bias and variance increase/decrease for the ensemble? Does the number of trees affect the result?\n",
    "\n",
    "Hint: Error rate = 1 - accuracy  \n",
    "Hint: We discussed bias-variance decomposition in class. It is not included in scikit-learn, so you'll need to implement it yourself."
   ]
  },
  {
   "cell_type": "code",
   "execution_count": null,
   "metadata": {
    "collapsed": false,
    "deletable": true,
    "editable": true
   },
   "outputs": [],
   "source": [
    "eeg = oml.datasets.get_dataset(1471)  # Download Ionosphere data\n",
    "X, y = eeg.get_data(target=eeg.default_target_attribute)\n",
    "\n",
    "# Out of bag errors can be retrieved from the RandomForest classifier. You'll need to loop over the number of trees.\n",
    "# http://scikit-learn.org/stable/auto_examples/ensemble/plot_ensemble_oob.html\n",
    "from sklearn import ensemble\n",
    "\n",
    "clf = ensemble.RandomForestClassifier()\n",
    "clf.fit(X, y)\n",
    "(1 - clf.oob_score)"
   ]
  },
  {
   "cell_type": "markdown",
   "metadata": {
    "deletable": true,
    "editable": true
   },
   "source": [
    "## A regression benchmark (1 point)\n",
    "Consider the liver-disorder dataset (http://www.openml.org/d/8). The goal is to predict how much alcohol someone consumed based on blood test values.\n",
    "\n",
    "- Take a selection of the algorithms that we covered in class that can do regression.\n",
    "- Based on what you learned in the previous exercises, make educated guesses about good hyperparameter values and set up a grid or random search.\n",
    "- Evaluate all models with 10-fold cross-validation and root mean squared error (RMSE). Report all results. Which model yields the best results?"
   ]
  },
  {
   "cell_type": "code",
   "execution_count": null,
   "metadata": {
    "collapsed": true,
    "deletable": true,
    "editable": true
   },
   "outputs": [],
   "source": [
    "liver = oml.datasets.get_dataset(8)  # Download Liver-disorders data\n",
    "X, y = liver.get_data(target=liver.default_target_attribute)"
   ]
  }
 ],
 "metadata": {
  "anaconda-cloud": {},
  "kernelspec": {
   "display_name": "Python 3",
   "language": "python",
   "name": "python3"
  },
  "language_info": {
   "codemirror_mode": {
    "name": "ipython",
    "version": 3.0
   },
   "file_extension": ".py",
   "mimetype": "text/x-python",
   "name": "python",
   "nbconvert_exporter": "python",
   "pygments_lexer": "ipython3",
   "version": "3.5.2"
  }
 },
 "nbformat": 4,
 "nbformat_minor": 0
}